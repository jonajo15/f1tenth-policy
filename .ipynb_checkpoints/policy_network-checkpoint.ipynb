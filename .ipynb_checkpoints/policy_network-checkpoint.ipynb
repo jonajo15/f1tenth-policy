{
 "cells": [
  {
   "cell_type": "code",
   "execution_count": 1,
   "metadata": {},
   "outputs": [
    {
     "name": "stderr",
     "output_type": "stream",
     "text": [
      "Using TensorFlow backend.\n"
     ]
    }
   ],
   "source": [
    "import numpy as np\n",
    "import pandas as pd\n",
    "import seaborn as sns\n",
    "import matplotlib.pyplot as plt\n",
    "import os\n",
    "\n",
    "from imblearn.over_sampling import SMOTE\n",
    "from imblearn.under_sampling import NearMiss\n",
    "\n",
    "from sklearn.model_selection import GridSearchCV\n",
    "from sklearn.multiclass import OneVsRestClassifier\n",
    "from sklearn.neural_network import MLPClassifier\n",
    "from sklearn.model_selection import train_test_split\n",
    "from sklearn.model_selection import cross_val_score\n",
    "from sklearn.metrics import plot_confusion_matrix\n",
    "from sklearn.metrics import confusion_matrix\n",
    "from sklearn.metrics import classification_report\n",
    "\n",
    "import tensorflow as tf\n",
    "from tensorflow import keras\n",
    "\n",
    "from keras.models import Sequential\n",
    "from keras.layers.normalization import BatchNormalization\n",
    "from keras.layers.core import Activation\n",
    "from keras.layers.core import Flatten\n",
    "from keras.layers.core import Dropout\n",
    "from keras.layers.core import Dense\n",
    "from keras.layers import Input\n",
    "from keras.optimizers import Adam\n",
    "from keras.models import Model\n",
    "\n",
    "dataset = pd.read_csv('../Dataset_refined/dataset_course2.csv', sep=',')\n",
    "dataset = dataset.drop(['velocity'], axis=1)\n",
    "X = dataset.iloc[:,0:-1].values\n",
    "y = dataset.iloc[:,-1].values\n",
    "\n",
    "os.environ['CUDA_VISIBLE_DEVICES'] = \"0\""
   ]
  },
  {
   "cell_type": "code",
   "execution_count": 2,
   "metadata": {},
   "outputs": [
    {
     "name": "stdout",
     "output_type": "stream",
     "text": [
      "Fri Mar 27 12:56:29 2020       \r\n",
      "+-----------------------------------------------------------------------------+\r\n",
      "| NVIDIA-SMI 430.50       Driver Version: 430.50       CUDA Version: 10.1     |\r\n",
      "|-------------------------------+----------------------+----------------------+\r\n",
      "| GPU  Name        Persistence-M| Bus-Id        Disp.A | Volatile Uncorr. ECC |\r\n",
      "| Fan  Temp  Perf  Pwr:Usage/Cap|         Memory-Usage | GPU-Util  Compute M. |\r\n",
      "|===============================+======================+======================|\r\n",
      "|   0  GeForce GTX 106...  Off  | 00000000:01:00.0  On |                  N/A |\r\n",
      "| 35%   39C    P0    28W / 120W |    895MiB /  6077MiB |      0%      Default |\r\n",
      "+-------------------------------+----------------------+----------------------+\r\n",
      "                                                                               \r\n",
      "+-----------------------------------------------------------------------------+\r\n",
      "| Processes:                                                       GPU Memory |\r\n",
      "|  GPU       PID   Type   Process name                             Usage      |\r\n",
      "|=============================================================================|\r\n",
      "|    0      1119      G   /usr/lib/xorg/Xorg                           525MiB |\r\n",
      "|    0      1554      G   /usr/bin/gnome-shell                         300MiB |\r\n",
      "|    0      3969      G   ...quest-channel-token=5865812547860998136    31MiB |\r\n",
      "|    0      3997      G   ...uest-channel-token=10474946587423321186    34MiB |\r\n",
      "+-----------------------------------------------------------------------------+\r\n"
     ]
    }
   ],
   "source": [
    "!nvidia-smi"
   ]
  },
  {
   "cell_type": "code",
   "execution_count": 3,
   "metadata": {},
   "outputs": [],
   "source": [
    "x_train, x_test, y_train, y_test = train_test_split(X, y, test_size=0.20, random_state=42)"
   ]
  },
  {
   "cell_type": "code",
   "execution_count": 4,
   "metadata": {},
   "outputs": [],
   "source": [
    "#classify data\n",
    "def classify5classes(data):\n",
    "    classified_data = []\n",
    "    limits = []\n",
    "    parts = 0.4189*2/5\n",
    "    start = -0.4189\n",
    "    for i in range(1,5):\n",
    "        limits.append(start + parts*i)\n",
    "    \n",
    "    print(limits)\n",
    "    for sample in data:\n",
    "        if sample < limits[0]:\n",
    "            classified_data.append('Hard_left')\n",
    "        elif sample >= limits[0] and sample < limits[1] :\n",
    "            classified_data.append('Slight_left')\n",
    "        elif sample >= limits[1] and sample < limits[2]:\n",
    "            classified_data.append('Straight')\n",
    "        elif sample >= limits[2] and sample < limits[3]:\n",
    "            classified_data.append('Slight_right')\n",
    "        elif sample >= limits[3]:\n",
    "            classified_data.append('Hard_right')\n",
    "              \n",
    "    \n",
    "    return classified_data"
   ]
  },
  {
   "cell_type": "code",
   "execution_count": 5,
   "metadata": {},
   "outputs": [],
   "source": [
    "#classify data\n",
    "def classify3classes(data):\n",
    "    classified_data = []\n",
    "    limits = []\n",
    "    parts = 0.4189*2/3\n",
    "    start = -0.4189\n",
    "    for i in range(1,3):\n",
    "        limits.append(start + parts*i)\n",
    "    \n",
    "    print(limits)\n",
    "    for sample in data:\n",
    "        if sample < limits[0]:\n",
    "            classified_data.append('left')\n",
    "        elif sample >= limits[0] and sample < limits[1] :\n",
    "            classified_data.append('straight')\n",
    "        elif sample >= limits[1]:\n",
    "            classified_data.append('right')\n",
    "              \n",
    "    \n",
    "    return classified_data"
   ]
  },
  {
   "cell_type": "code",
   "execution_count": 6,
   "metadata": {},
   "outputs": [],
   "source": [
    "#classify data\n",
    "def classify2classes(data):\n",
    "    classified_data = []\n",
    "    limits = []\n",
    "    parts = 0.4189\n",
    "    start = -0.4189\n",
    "    for i in range(1,2):\n",
    "        limits.append(start + parts*i)\n",
    "    \n",
    "    print(limits)\n",
    "    for sample in data:\n",
    "        if sample < limits[0]:\n",
    "            classified_data.append('0')\n",
    "        elif sample >= limits[0]:\n",
    "            classified_data.append('1')\n",
    "              \n",
    "    \n",
    "    return classified_data"
   ]
  },
  {
   "cell_type": "code",
   "execution_count": 7,
   "metadata": {},
   "outputs": [
    {
     "name": "stdout",
     "output_type": "stream",
     "text": [
      "[0.0]\n",
      "[0.0]\n"
     ]
    },
    {
     "data": {
      "text/plain": [
       "<matplotlib.axes._subplots.AxesSubplot at 0x7fdf732db210>"
      ]
     },
     "execution_count": 7,
     "metadata": {},
     "output_type": "execute_result"
    },
    {
     "data": {
      "image/png": "[encoded data removed]",
      "text/plain": [
       "<Figure size 432x288 with 1 Axes>"
      ]
     },
     "metadata": {
      "needs_background": "light"
     },
     "output_type": "display_data"
    }
   ],
   "source": [
    "#classify\n",
    "y_train = classify2classes(y_train)\n",
    "y_test = classify2classes(y_test)\n",
    "df = pd.DataFrame(y_train, columns=['classes'])\n",
    "sns.countplot(x = 'classes',data=df)"
   ]
  },
  {
   "cell_type": "code",
   "execution_count": 8,
   "metadata": {},
   "outputs": [
    {
     "data": {
      "text/plain": [
       "<matplotlib.axes._subplots.AxesSubplot at 0x7fdf732b7310>"
      ]
     },
     "execution_count": 8,
     "metadata": {},
     "output_type": "execute_result"
    },
    {
     "data": {
      "image/png": "[encoded data removed]",
      "text/plain": [
       "<Figure size 432x288 with 1 Axes>"
      ]
     },
     "metadata": {
      "needs_background": "light"
     },
     "output_type": "display_data"
    }
   ],
   "source": [
    "#Undersampling\n",
    "nm = NearMiss(version=1)\n",
    "x_train_res, y_train_res = nm.fit_resample(x_train, y_train)\n",
    "df_res = pd.DataFrame(y_train_res, columns=['classes'])\n",
    "sns.countplot(x = 'classes',data=df_res)"
   ]
  },
  {
   "cell_type": "code",
   "execution_count": 9,
   "metadata": {},
   "outputs": [
    {
     "data": {
      "text/plain": [
       "<matplotlib.axes._subplots.AxesSubplot at 0x7fcf9f22c150>"
      ]
     },
     "execution_count": 9,
     "metadata": {},
     "output_type": "execute_result"
    },
    {
     "data": {
      "image/png": "[encoded data removed]",
      "text/plain": [
       "<Figure size 432x288 with 1 Axes>"
      ]
     },
     "metadata": {
      "needs_background": "light"
     },
     "output_type": "display_data"
    }
   ],
   "source": [
    "df2 = pd.DataFrame(y_test, columns=['classes'])\n",
    "sns.countplot(x = 'classes',data=df2)"
   ]
  },
  {
   "cell_type": "code",
   "execution_count": 10,
   "metadata": {},
   "outputs": [
    {
     "ename": "KeyboardInterrupt",
     "evalue": "",
     "output_type": "error",
     "traceback": [
      "\u001b[0;31m---------------------------------------------------------------------------\u001b[0m",
      "\u001b[0;31mKeyboardInterrupt\u001b[0m                         Traceback (most recent call last)",
      "\u001b[0;32m~/anaconda3/envs/master-thesis/lib/python3.7/site-packages/joblib/parallel.py\u001b[0m in \u001b[0;36mretrieve\u001b[0;34m(self)\u001b[0m\n\u001b[1;32m    908\u001b[0m                 \u001b[0;32mif\u001b[0m \u001b[0mgetattr\u001b[0m\u001b[0;34m(\u001b[0m\u001b[0mself\u001b[0m\u001b[0;34m.\u001b[0m\u001b[0m_backend\u001b[0m\u001b[0;34m,\u001b[0m \u001b[0;34m'supports_timeout'\u001b[0m\u001b[0;34m,\u001b[0m \u001b[0;32mFalse\u001b[0m\u001b[0;34m)\u001b[0m\u001b[0;34m:\u001b[0m\u001b[0;34m\u001b[0m\u001b[0;34m\u001b[0m\u001b[0m\n\u001b[0;32m--> 909\u001b[0;31m                     \u001b[0mself\u001b[0m\u001b[0;34m.\u001b[0m\u001b[0m_output\u001b[0m\u001b[0;34m.\u001b[0m\u001b[0mextend\u001b[0m\u001b[0;34m(\u001b[0m\u001b[0mjob\u001b[0m\u001b[0;34m.\u001b[0m\u001b[0mget\u001b[0m\u001b[0;34m(\u001b[0m\u001b[0mtimeout\u001b[0m\u001b[0;34m=\u001b[0m\u001b[0mself\u001b[0m\u001b[0;34m.\u001b[0m\u001b[0mtimeout\u001b[0m\u001b[0;34m)\u001b[0m\u001b[0;34m)\u001b[0m\u001b[0;34m\u001b[0m\u001b[0;34m\u001b[0m\u001b[0m\n\u001b[0m\u001b[1;32m    910\u001b[0m                 \u001b[0;32melse\u001b[0m\u001b[0;34m:\u001b[0m\u001b[0;34m\u001b[0m\u001b[0;34m\u001b[0m\u001b[0m\n",
      "\u001b[0;32m~/anaconda3/envs/master-thesis/lib/python3.7/site-packages/joblib/_parallel_backends.py\u001b[0m in \u001b[0;36mwrap_future_result\u001b[0;34m(future, timeout)\u001b[0m\n\u001b[1;32m    561\u001b[0m         \u001b[0;32mtry\u001b[0m\u001b[0;34m:\u001b[0m\u001b[0;34m\u001b[0m\u001b[0;34m\u001b[0m\u001b[0m\n\u001b[0;32m--> 562\u001b[0;31m             \u001b[0;32mreturn\u001b[0m \u001b[0mfuture\u001b[0m\u001b[0;34m.\u001b[0m\u001b[0mresult\u001b[0m\u001b[0;34m(\u001b[0m\u001b[0mtimeout\u001b[0m\u001b[0;34m=\u001b[0m\u001b[0mtimeout\u001b[0m\u001b[0;34m)\u001b[0m\u001b[0;34m\u001b[0m\u001b[0;34m\u001b[0m\u001b[0m\n\u001b[0m\u001b[1;32m    563\u001b[0m         \u001b[0;32mexcept\u001b[0m \u001b[0mLokyTimeoutError\u001b[0m\u001b[0;34m:\u001b[0m\u001b[0;34m\u001b[0m\u001b[0;34m\u001b[0m\u001b[0m\n",
      "\u001b[0;32m~/anaconda3/envs/master-thesis/lib/python3.7/concurrent/futures/_base.py\u001b[0m in \u001b[0;36mresult\u001b[0;34m(self, timeout)\u001b[0m\n\u001b[1;32m    429\u001b[0m \u001b[0;34m\u001b[0m\u001b[0m\n\u001b[0;32m--> 430\u001b[0;31m             \u001b[0mself\u001b[0m\u001b[0;34m.\u001b[0m\u001b[0m_condition\u001b[0m\u001b[0;34m.\u001b[0m\u001b[0mwait\u001b[0m\u001b[0;34m(\u001b[0m\u001b[0mtimeout\u001b[0m\u001b[0;34m)\u001b[0m\u001b[0;34m\u001b[0m\u001b[0;34m\u001b[0m\u001b[0m\n\u001b[0m\u001b[1;32m    431\u001b[0m \u001b[0;34m\u001b[0m\u001b[0m\n",
      "\u001b[0;32m~/anaconda3/envs/master-thesis/lib/python3.7/threading.py\u001b[0m in \u001b[0;36mwait\u001b[0;34m(self, timeout)\u001b[0m\n\u001b[1;32m    295\u001b[0m             \u001b[0;32mif\u001b[0m \u001b[0mtimeout\u001b[0m \u001b[0;32mis\u001b[0m \u001b[0;32mNone\u001b[0m\u001b[0;34m:\u001b[0m\u001b[0;34m\u001b[0m\u001b[0;34m\u001b[0m\u001b[0m\n\u001b[0;32m--> 296\u001b[0;31m                 \u001b[0mwaiter\u001b[0m\u001b[0;34m.\u001b[0m\u001b[0macquire\u001b[0m\u001b[0;34m(\u001b[0m\u001b[0;34m)\u001b[0m\u001b[0;34m\u001b[0m\u001b[0;34m\u001b[0m\u001b[0m\n\u001b[0m\u001b[1;32m    297\u001b[0m                 \u001b[0mgotit\u001b[0m \u001b[0;34m=\u001b[0m \u001b[0;32mTrue\u001b[0m\u001b[0;34m\u001b[0m\u001b[0;34m\u001b[0m\u001b[0m\n",
      "\u001b[0;31mKeyboardInterrupt\u001b[0m: ",
      "\nDuring handling of the above exception, another exception occurred:\n",
      "\u001b[0;31mKeyboardInterrupt\u001b[0m                         Traceback (most recent call last)",
      "\u001b[0;32m<ipython-input-10-e6f6ca0e60ed>\u001b[0m in \u001b[0;36m<module>\u001b[0;34m\u001b[0m\n\u001b[1;32m      9\u001b[0m }\n\u001b[1;32m     10\u001b[0m \u001b[0mclf\u001b[0m \u001b[0;34m=\u001b[0m \u001b[0mGridSearchCV\u001b[0m\u001b[0;34m(\u001b[0m\u001b[0mmlp\u001b[0m\u001b[0;34m,\u001b[0m \u001b[0mparameter_space\u001b[0m\u001b[0;34m,\u001b[0m \u001b[0mn_jobs\u001b[0m\u001b[0;34m=\u001b[0m\u001b[0;34m-\u001b[0m\u001b[0;36m1\u001b[0m\u001b[0;34m,\u001b[0m \u001b[0mcv\u001b[0m\u001b[0;34m=\u001b[0m\u001b[0;36m5\u001b[0m\u001b[0;34m)\u001b[0m\u001b[0;34m\u001b[0m\u001b[0;34m\u001b[0m\u001b[0m\n\u001b[0;32m---> 11\u001b[0;31m \u001b[0mclf\u001b[0m\u001b[0;34m.\u001b[0m\u001b[0mfit\u001b[0m\u001b[0;34m(\u001b[0m\u001b[0mx_train_res\u001b[0m\u001b[0;34m,\u001b[0m \u001b[0my_train_res\u001b[0m\u001b[0;34m)\u001b[0m\u001b[0;34m\u001b[0m\u001b[0;34m\u001b[0m\u001b[0m\n\u001b[0m\u001b[1;32m     12\u001b[0m \u001b[0;34m\u001b[0m\u001b[0m\n\u001b[1;32m     13\u001b[0m \u001b[0;31m# Best paramete set\u001b[0m\u001b[0;34m\u001b[0m\u001b[0;34m\u001b[0m\u001b[0;34m\u001b[0m\u001b[0m\n",
      "\u001b[0;32m~/anaconda3/envs/master-thesis/lib/python3.7/site-packages/sklearn/model_selection/_search.py\u001b[0m in \u001b[0;36mfit\u001b[0;34m(self, X, y, groups, **fit_params)\u001b[0m\n\u001b[1;32m    708\u001b[0m                 \u001b[0;32mreturn\u001b[0m \u001b[0mresults\u001b[0m\u001b[0;34m\u001b[0m\u001b[0;34m\u001b[0m\u001b[0m\n\u001b[1;32m    709\u001b[0m \u001b[0;34m\u001b[0m\u001b[0m\n\u001b[0;32m--> 710\u001b[0;31m             \u001b[0mself\u001b[0m\u001b[0;34m.\u001b[0m\u001b[0m_run_search\u001b[0m\u001b[0;34m(\u001b[0m\u001b[0mevaluate_candidates\u001b[0m\u001b[0;34m)\u001b[0m\u001b[0;34m\u001b[0m\u001b[0;34m\u001b[0m\u001b[0m\n\u001b[0m\u001b[1;32m    711\u001b[0m \u001b[0;34m\u001b[0m\u001b[0m\n\u001b[1;32m    712\u001b[0m         \u001b[0;31m# For multi-metric evaluation, store the best_index_, best_params_ and\u001b[0m\u001b[0;34m\u001b[0m\u001b[0;34m\u001b[0m\u001b[0;34m\u001b[0m\u001b[0m\n",
      "\u001b[0;32m~/anaconda3/envs/master-thesis/lib/python3.7/site-packages/sklearn/model_selection/_search.py\u001b[0m in \u001b[0;36m_run_search\u001b[0;34m(self, evaluate_candidates)\u001b[0m\n\u001b[1;32m   1149\u001b[0m     \u001b[0;32mdef\u001b[0m \u001b[0m_run_search\u001b[0m\u001b[0;34m(\u001b[0m\u001b[0mself\u001b[0m\u001b[0;34m,\u001b[0m \u001b[0mevaluate_candidates\u001b[0m\u001b[0;34m)\u001b[0m\u001b[0;34m:\u001b[0m\u001b[0;34m\u001b[0m\u001b[0;34m\u001b[0m\u001b[0m\n\u001b[1;32m   1150\u001b[0m         \u001b[0;34m\"\"\"Search all candidates in param_grid\"\"\"\u001b[0m\u001b[0;34m\u001b[0m\u001b[0;34m\u001b[0m\u001b[0m\n\u001b[0;32m-> 1151\u001b[0;31m         \u001b[0mevaluate_candidates\u001b[0m\u001b[0;34m(\u001b[0m\u001b[0mParameterGrid\u001b[0m\u001b[0;34m(\u001b[0m\u001b[0mself\u001b[0m\u001b[0;34m.\u001b[0m\u001b[0mparam_grid\u001b[0m\u001b[0;34m)\u001b[0m\u001b[0;34m)\u001b[0m\u001b[0;34m\u001b[0m\u001b[0;34m\u001b[0m\u001b[0m\n\u001b[0m\u001b[1;32m   1152\u001b[0m \u001b[0;34m\u001b[0m\u001b[0m\n\u001b[1;32m   1153\u001b[0m \u001b[0;34m\u001b[0m\u001b[0m\n",
      "\u001b[0;32m~/anaconda3/envs/master-thesis/lib/python3.7/site-packages/sklearn/model_selection/_search.py\u001b[0m in \u001b[0;36mevaluate_candidates\u001b[0;34m(candidate_params)\u001b[0m\n\u001b[1;32m    687\u001b[0m                                \u001b[0;32mfor\u001b[0m \u001b[0mparameters\u001b[0m\u001b[0;34m,\u001b[0m \u001b[0;34m(\u001b[0m\u001b[0mtrain\u001b[0m\u001b[0;34m,\u001b[0m \u001b[0mtest\u001b[0m\u001b[0;34m)\u001b[0m\u001b[0;34m\u001b[0m\u001b[0;34m\u001b[0m\u001b[0m\n\u001b[1;32m    688\u001b[0m                                in product(candidate_params,\n\u001b[0;32m--> 689\u001b[0;31m                                           cv.split(X, y, groups)))\n\u001b[0m\u001b[1;32m    690\u001b[0m \u001b[0;34m\u001b[0m\u001b[0m\n\u001b[1;32m    691\u001b[0m                 \u001b[0;32mif\u001b[0m \u001b[0mlen\u001b[0m\u001b[0;34m(\u001b[0m\u001b[0mout\u001b[0m\u001b[0;34m)\u001b[0m \u001b[0;34m<\u001b[0m \u001b[0;36m1\u001b[0m\u001b[0;34m:\u001b[0m\u001b[0;34m\u001b[0m\u001b[0;34m\u001b[0m\u001b[0m\n",
      "\u001b[0;32m~/anaconda3/envs/master-thesis/lib/python3.7/site-packages/joblib/parallel.py\u001b[0m in \u001b[0;36m__call__\u001b[0;34m(self, iterable)\u001b[0m\n\u001b[1;32m   1015\u001b[0m \u001b[0;34m\u001b[0m\u001b[0m\n\u001b[1;32m   1016\u001b[0m             \u001b[0;32mwith\u001b[0m \u001b[0mself\u001b[0m\u001b[0;34m.\u001b[0m\u001b[0m_backend\u001b[0m\u001b[0;34m.\u001b[0m\u001b[0mretrieval_context\u001b[0m\u001b[0;34m(\u001b[0m\u001b[0;34m)\u001b[0m\u001b[0;34m:\u001b[0m\u001b[0;34m\u001b[0m\u001b[0;34m\u001b[0m\u001b[0m\n\u001b[0;32m-> 1017\u001b[0;31m                 \u001b[0mself\u001b[0m\u001b[0;34m.\u001b[0m\u001b[0mretrieve\u001b[0m\u001b[0;34m(\u001b[0m\u001b[0;34m)\u001b[0m\u001b[0;34m\u001b[0m\u001b[0;34m\u001b[0m\u001b[0m\n\u001b[0m\u001b[1;32m   1018\u001b[0m             \u001b[0;31m# Make sure that we get a last message telling us we are done\u001b[0m\u001b[0;34m\u001b[0m\u001b[0;34m\u001b[0m\u001b[0;34m\u001b[0m\u001b[0m\n\u001b[1;32m   1019\u001b[0m             \u001b[0melapsed_time\u001b[0m \u001b[0;34m=\u001b[0m \u001b[0mtime\u001b[0m\u001b[0;34m.\u001b[0m\u001b[0mtime\u001b[0m\u001b[0;34m(\u001b[0m\u001b[0;34m)\u001b[0m \u001b[0;34m-\u001b[0m \u001b[0mself\u001b[0m\u001b[0;34m.\u001b[0m\u001b[0m_start_time\u001b[0m\u001b[0;34m\u001b[0m\u001b[0;34m\u001b[0m\u001b[0m\n",
      "\u001b[0;32m~/anaconda3/envs/master-thesis/lib/python3.7/site-packages/joblib/parallel.py\u001b[0m in \u001b[0;36mretrieve\u001b[0;34m(self)\u001b[0m\n\u001b[1;32m    929\u001b[0m                     \u001b[0;31m# scheduling.\u001b[0m\u001b[0;34m\u001b[0m\u001b[0;34m\u001b[0m\u001b[0;34m\u001b[0m\u001b[0m\n\u001b[1;32m    930\u001b[0m                     \u001b[0mensure_ready\u001b[0m \u001b[0;34m=\u001b[0m \u001b[0mself\u001b[0m\u001b[0;34m.\u001b[0m\u001b[0m_managed_backend\u001b[0m\u001b[0;34m\u001b[0m\u001b[0;34m\u001b[0m\u001b[0m\n\u001b[0;32m--> 931\u001b[0;31m                     \u001b[0mbackend\u001b[0m\u001b[0;34m.\u001b[0m\u001b[0mabort_everything\u001b[0m\u001b[0;34m(\u001b[0m\u001b[0mensure_ready\u001b[0m\u001b[0;34m=\u001b[0m\u001b[0mensure_ready\u001b[0m\u001b[0;34m)\u001b[0m\u001b[0;34m\u001b[0m\u001b[0;34m\u001b[0m\u001b[0m\n\u001b[0m\u001b[1;32m    932\u001b[0m \u001b[0;34m\u001b[0m\u001b[0m\n\u001b[1;32m    933\u001b[0m                 \u001b[0;32mif\u001b[0m \u001b[0misinstance\u001b[0m\u001b[0;34m(\u001b[0m\u001b[0mexception\u001b[0m\u001b[0;34m,\u001b[0m \u001b[0mTransportableException\u001b[0m\u001b[0;34m)\u001b[0m\u001b[0;34m:\u001b[0m\u001b[0;34m\u001b[0m\u001b[0;34m\u001b[0m\u001b[0m\n",
      "\u001b[0;32m~/anaconda3/envs/master-thesis/lib/python3.7/site-packages/joblib/_parallel_backends.py\u001b[0m in \u001b[0;36mabort_everything\u001b[0;34m(self, ensure_ready)\u001b[0m\n\u001b[1;32m    577\u001b[0m         \"\"\"Shutdown the workers and restart a new one with the same parameters\n\u001b[1;32m    578\u001b[0m         \"\"\"\n\u001b[0;32m--> 579\u001b[0;31m         \u001b[0mself\u001b[0m\u001b[0;34m.\u001b[0m\u001b[0m_workers\u001b[0m\u001b[0;34m.\u001b[0m\u001b[0mshutdown\u001b[0m\u001b[0;34m(\u001b[0m\u001b[0mkill_workers\u001b[0m\u001b[0;34m=\u001b[0m\u001b[0;32mTrue\u001b[0m\u001b[0;34m)\u001b[0m\u001b[0;34m\u001b[0m\u001b[0;34m\u001b[0m\u001b[0m\n\u001b[0m\u001b[1;32m    580\u001b[0m         \u001b[0mdelete_folder\u001b[0m\u001b[0;34m(\u001b[0m\u001b[0mself\u001b[0m\u001b[0;34m.\u001b[0m\u001b[0m_workers\u001b[0m\u001b[0;34m.\u001b[0m\u001b[0m_temp_folder\u001b[0m\u001b[0;34m)\u001b[0m\u001b[0;34m\u001b[0m\u001b[0;34m\u001b[0m\u001b[0m\n\u001b[1;32m    581\u001b[0m         \u001b[0mself\u001b[0m\u001b[0;34m.\u001b[0m\u001b[0m_workers\u001b[0m \u001b[0;34m=\u001b[0m \u001b[0;32mNone\u001b[0m\u001b[0;34m\u001b[0m\u001b[0;34m\u001b[0m\u001b[0m\n",
      "\u001b[0;32m~/anaconda3/envs/master-thesis/lib/python3.7/site-packages/joblib/externals/loky/process_executor.py\u001b[0m in \u001b[0;36mshutdown\u001b[0;34m(self, wait, kill_workers)\u001b[0m\n\u001b[1;32m   1099\u001b[0m                     \u001b[0;32mpass\u001b[0m\u001b[0;34m\u001b[0m\u001b[0;34m\u001b[0m\u001b[0m\n\u001b[1;32m   1100\u001b[0m             \u001b[0;32mif\u001b[0m \u001b[0mwait\u001b[0m\u001b[0;34m:\u001b[0m\u001b[0;34m\u001b[0m\u001b[0;34m\u001b[0m\u001b[0m\n\u001b[0;32m-> 1101\u001b[0;31m                 \u001b[0mqmt\u001b[0m\u001b[0;34m.\u001b[0m\u001b[0mjoin\u001b[0m\u001b[0;34m(\u001b[0m\u001b[0;34m)\u001b[0m\u001b[0;34m\u001b[0m\u001b[0;34m\u001b[0m\u001b[0m\n\u001b[0m\u001b[1;32m   1102\u001b[0m \u001b[0;34m\u001b[0m\u001b[0m\n\u001b[1;32m   1103\u001b[0m         \u001b[0mcq\u001b[0m \u001b[0;34m=\u001b[0m \u001b[0mself\u001b[0m\u001b[0;34m.\u001b[0m\u001b[0m_call_queue\u001b[0m\u001b[0;34m\u001b[0m\u001b[0;34m\u001b[0m\u001b[0m\n",
      "\u001b[0;32m~/anaconda3/envs/master-thesis/lib/python3.7/threading.py\u001b[0m in \u001b[0;36mjoin\u001b[0;34m(self, timeout)\u001b[0m\n\u001b[1;32m   1042\u001b[0m \u001b[0;34m\u001b[0m\u001b[0m\n\u001b[1;32m   1043\u001b[0m         \u001b[0;32mif\u001b[0m \u001b[0mtimeout\u001b[0m \u001b[0;32mis\u001b[0m \u001b[0;32mNone\u001b[0m\u001b[0;34m:\u001b[0m\u001b[0;34m\u001b[0m\u001b[0;34m\u001b[0m\u001b[0m\n\u001b[0;32m-> 1044\u001b[0;31m             \u001b[0mself\u001b[0m\u001b[0;34m.\u001b[0m\u001b[0m_wait_for_tstate_lock\u001b[0m\u001b[0;34m(\u001b[0m\u001b[0;34m)\u001b[0m\u001b[0;34m\u001b[0m\u001b[0;34m\u001b[0m\u001b[0m\n\u001b[0m\u001b[1;32m   1045\u001b[0m         \u001b[0;32melse\u001b[0m\u001b[0;34m:\u001b[0m\u001b[0;34m\u001b[0m\u001b[0;34m\u001b[0m\u001b[0m\n\u001b[1;32m   1046\u001b[0m             \u001b[0;31m# the behavior of a negative timeout isn't documented, but\u001b[0m\u001b[0;34m\u001b[0m\u001b[0;34m\u001b[0m\u001b[0;34m\u001b[0m\u001b[0m\n",
      "\u001b[0;32m~/anaconda3/envs/master-thesis/lib/python3.7/threading.py\u001b[0m in \u001b[0;36m_wait_for_tstate_lock\u001b[0;34m(self, block, timeout)\u001b[0m\n\u001b[1;32m   1058\u001b[0m         \u001b[0;32mif\u001b[0m \u001b[0mlock\u001b[0m \u001b[0;32mis\u001b[0m \u001b[0;32mNone\u001b[0m\u001b[0;34m:\u001b[0m  \u001b[0;31m# already determined that the C code is done\u001b[0m\u001b[0;34m\u001b[0m\u001b[0;34m\u001b[0m\u001b[0m\n\u001b[1;32m   1059\u001b[0m             \u001b[0;32massert\u001b[0m \u001b[0mself\u001b[0m\u001b[0;34m.\u001b[0m\u001b[0m_is_stopped\u001b[0m\u001b[0;34m\u001b[0m\u001b[0;34m\u001b[0m\u001b[0m\n\u001b[0;32m-> 1060\u001b[0;31m         \u001b[0;32melif\u001b[0m \u001b[0mlock\u001b[0m\u001b[0;34m.\u001b[0m\u001b[0macquire\u001b[0m\u001b[0;34m(\u001b[0m\u001b[0mblock\u001b[0m\u001b[0;34m,\u001b[0m \u001b[0mtimeout\u001b[0m\u001b[0;34m)\u001b[0m\u001b[0;34m:\u001b[0m\u001b[0;34m\u001b[0m\u001b[0;34m\u001b[0m\u001b[0m\n\u001b[0m\u001b[1;32m   1061\u001b[0m             \u001b[0mlock\u001b[0m\u001b[0;34m.\u001b[0m\u001b[0mrelease\u001b[0m\u001b[0;34m(\u001b[0m\u001b[0;34m)\u001b[0m\u001b[0;34m\u001b[0m\u001b[0;34m\u001b[0m\u001b[0m\n\u001b[1;32m   1062\u001b[0m             \u001b[0mself\u001b[0m\u001b[0;34m.\u001b[0m\u001b[0m_stop\u001b[0m\u001b[0;34m(\u001b[0m\u001b[0;34m)\u001b[0m\u001b[0;34m\u001b[0m\u001b[0;34m\u001b[0m\u001b[0m\n",
      "\u001b[0;31mKeyboardInterrupt\u001b[0m: "
     ]
    }
   ],
   "source": [
    "#MLP Grid search model\n",
    "mlp = MLPClassifier(max_iter=200)\n",
    "parameter_space = {\n",
    "    'hidden_layer_sizes': [(50,70,90,70,50), (50,80,100,80,50), (60,80,100,80,60)],\n",
    "    'activation': ['relu'],\n",
    "    'solver': ['adam'],\n",
    "    'alpha': [0.0001, 0.0005],\n",
    "    'learning_rate': ['constant'],\n",
    "}\n",
    "clf = GridSearchCV(mlp, parameter_space, n_jobs=-1, cv=5)\n",
    "clf.fit(x_train_res, y_train_res)\n",
    "\n",
    "# Best paramete set\n",
    "print('Best parameters found:\\n', clf.best_params_)\n",
    "\n",
    "# All results\n",
    "means = clf.cv_results_['mean_test_score']\n",
    "stds = clf.cv_results_['std_test_score']\n",
    "for mean, std, params in zip(means, stds, clf.cv_results_['params']):\n",
    "    print(\"%0.3f (+/-%0.03f) for %r\" % (mean, std * 2, params))"
   ]
  },
  {
   "cell_type": "code",
   "execution_count": 60,
   "metadata": {},
   "outputs": [
    {
     "name": "stdout",
     "output_type": "stream",
     "text": [
      "Model: \"model_8\"\n",
      "_________________________________________________________________\n",
      "Layer (type)                 Output Shape              Param #   \n",
      "=================================================================\n",
      "input_8 (InputLayer)         (None, 1081)              0         \n",
      "_________________________________________________________________\n",
      "batch_normalization_14 (Batc (None, 1081)              4324      \n",
      "_________________________________________________________________\n",
      "dense_39 (Dense)             (None, 50)                54100     \n",
      "_________________________________________________________________\n",
      "activation_39 (Activation)   (None, 50)                0         \n",
      "_________________________________________________________________\n",
      "batch_normalization_15 (Batc (None, 50)                200       \n",
      "_________________________________________________________________\n",
      "dense_40 (Dense)             (None, 70)                3570      \n",
      "_________________________________________________________________\n",
      "activation_40 (Activation)   (None, 70)                0         \n",
      "_________________________________________________________________\n",
      "batch_normalization_16 (Batc (None, 70)                280       \n",
      "_________________________________________________________________\n",
      "dense_41 (Dense)             (None, 90)                6390      \n",
      "_________________________________________________________________\n",
      "activation_41 (Activation)   (None, 90)                0         \n",
      "_________________________________________________________________\n",
      "dense_42 (Dense)             (None, 2)                 182       \n",
      "_________________________________________________________________\n",
      "activation_42 (Activation)   (None, 2)                 0         \n",
      "=================================================================\n",
      "Total params: 69,046\n",
      "Trainable params: 66,644\n",
      "Non-trainable params: 2,402\n",
      "_________________________________________________________________\n"
     ]
    }
   ],
   "source": [
    "#Keras sequential model\n",
    "inputs = Input(shape=(1081,))\n",
    "\n",
    "dense1 = Dense(50)(inputs)\n",
    "dense1 = Activation(\"relu\")(dense1)\n",
    "\n",
    "dense2 = Dense(70)(dense1)\n",
    "dense2 = Activation(\"relu\")(dense2)\n",
    "\n",
    "dense3 = Dense(90)(dense2)\n",
    "dense3 = Activation(\"relu\")(dense3)\n",
    "\n",
    "dense4 = Dense(90)(dense3)\n",
    "dense4 = Activation(\"relu\")(dense4)\n",
    "\n",
    "dense5 = Dense(90)(dense4)\n",
    "dense5 = Activation(\"relu\")(dense5)\n",
    "\n",
    "\n",
    "# softmax classifier\n",
    "final = Dense(2)(dense5)\n",
    "final = Activation(\"softmax\")(final)\n",
    "\n",
    "model = Model(inputs=inputs, outputs=final)\n",
    "model.summary()"
   ]
  },
  {
   "cell_type": "code",
   "execution_count": 61,
   "metadata": {},
   "outputs": [],
   "source": [
    "model.compile(loss=keras.losses.categorical_crossentropy,\n",
    "              optimizer= Adam(), metrics=['accuracy'])\n"
   ]
  },
  {
   "cell_type": "code",
   "execution_count": 62,
   "metadata": {},
   "outputs": [],
   "source": [
    "y_train_cat = keras.utils.to_categorical(y_train_res, 2)\n",
    "y_test_cat = keras.utils.to_categorical(y_test, 2)\n",
    "\n",
    "x_t, x_v, y_t, y_v = train_test_split(x_train_res, y_train_cat, test_size=0.20, random_state=42)"
   ]
  },
  {
   "cell_type": "code",
   "execution_count": 63,
   "metadata": {},
   "outputs": [
    {
     "name": "stdout",
     "output_type": "stream",
     "text": [
      "Train on 5040 samples, validate on 1260 samples\n",
      "Epoch 1/50\n",
      "5040/5040 [==============================] - 3s 535us/step - loss: 0.5803 - accuracy: 0.6976 - val_loss: 0.5206 - val_accuracy: 0.7429\n",
      "Epoch 2/50\n",
      "5040/5040 [==============================] - 1s 226us/step - loss: 0.4841 - accuracy: 0.7611 - val_loss: 0.4585 - val_accuracy: 0.7905\n",
      "Epoch 3/50\n",
      "5040/5040 [==============================] - 1s 223us/step - loss: 0.4353 - accuracy: 0.7998 - val_loss: 0.4574 - val_accuracy: 0.7944\n",
      "Epoch 4/50\n",
      "5040/5040 [==============================] - 1s 238us/step - loss: 0.3984 - accuracy: 0.8177 - val_loss: 0.4342 - val_accuracy: 0.7905\n",
      "Epoch 5/50\n",
      "5040/5040 [==============================] - 1s 246us/step - loss: 0.3620 - accuracy: 0.8407 - val_loss: 0.3953 - val_accuracy: 0.8238\n",
      "Epoch 6/50\n",
      "5040/5040 [==============================] - 1s 254us/step - loss: 0.3327 - accuracy: 0.8560 - val_loss: 0.4160 - val_accuracy: 0.8016\n",
      "Epoch 7/50\n",
      "5040/5040 [==============================] - 1s 275us/step - loss: 0.3187 - accuracy: 0.8605 - val_loss: 0.3799 - val_accuracy: 0.8238\n",
      "Epoch 8/50\n",
      "5040/5040 [==============================] - 1s 294us/step - loss: 0.3052 - accuracy: 0.8754 - val_loss: 0.3719 - val_accuracy: 0.8262\n",
      "Epoch 9/50\n",
      "5040/5040 [==============================] - 2s 319us/step - loss: 0.2747 - accuracy: 0.8831 - val_loss: 0.3725 - val_accuracy: 0.8397\n",
      "Epoch 10/50\n",
      "5040/5040 [==============================] - 1s 266us/step - loss: 0.2596 - accuracy: 0.8921 - val_loss: 0.3850 - val_accuracy: 0.8214\n",
      "Epoch 11/50\n",
      "5040/5040 [==============================] - 1s 280us/step - loss: 0.2459 - accuracy: 0.8940 - val_loss: 0.3929 - val_accuracy: 0.8373\n",
      "Epoch 12/50\n",
      "5040/5040 [==============================] - 1s 258us/step - loss: 0.2254 - accuracy: 0.9095 - val_loss: 0.3639 - val_accuracy: 0.8651\n",
      "Epoch 13/50\n",
      "5040/5040 [==============================] - 1s 260us/step - loss: 0.2169 - accuracy: 0.9117 - val_loss: 0.3677 - val_accuracy: 0.8635\n",
      "Epoch 14/50\n",
      "5040/5040 [==============================] - 1s 272us/step - loss: 0.2105 - accuracy: 0.9105 - val_loss: 0.3826 - val_accuracy: 0.8516\n",
      "Epoch 15/50\n",
      "5040/5040 [==============================] - 1s 286us/step - loss: 0.2098 - accuracy: 0.9141 - val_loss: 0.3940 - val_accuracy: 0.8421\n",
      "Epoch 16/50\n",
      "5040/5040 [==============================] - 1s 278us/step - loss: 0.2100 - accuracy: 0.9117 - val_loss: 0.3776 - val_accuracy: 0.8476\n",
      "Epoch 17/50\n",
      "5040/5040 [==============================] - 1s 265us/step - loss: 0.1861 - accuracy: 0.9256 - val_loss: 0.3808 - val_accuracy: 0.8659\n",
      "Epoch 18/50\n",
      "5040/5040 [==============================] - 1s 286us/step - loss: 0.1728 - accuracy: 0.9296 - val_loss: 0.3958 - val_accuracy: 0.8563\n",
      "Epoch 19/50\n",
      "5040/5040 [==============================] - 2s 305us/step - loss: 0.1631 - accuracy: 0.9375 - val_loss: 0.4238 - val_accuracy: 0.8437\n",
      "Epoch 20/50\n",
      "5040/5040 [==============================] - 1s 285us/step - loss: 0.1642 - accuracy: 0.9341 - val_loss: 0.3894 - val_accuracy: 0.8476\n",
      "Epoch 21/50\n",
      "5040/5040 [==============================] - 2s 318us/step - loss: 0.1801 - accuracy: 0.9232 - val_loss: 0.4536 - val_accuracy: 0.8397\n",
      "Epoch 22/50\n",
      "5040/5040 [==============================] - 1s 295us/step - loss: 0.1696 - accuracy: 0.9337 - val_loss: 0.4161 - val_accuracy: 0.8484\n",
      "Epoch 23/50\n",
      "5040/5040 [==============================] - 1s 284us/step - loss: 0.1504 - accuracy: 0.9407 - val_loss: 0.4307 - val_accuracy: 0.8421\n",
      "Epoch 24/50\n",
      "5040/5040 [==============================] - 2s 330us/step - loss: 0.1450 - accuracy: 0.9419 - val_loss: 0.4051 - val_accuracy: 0.8579\n",
      "Epoch 25/50\n",
      "5040/5040 [==============================] - 2s 332us/step - loss: 0.1375 - accuracy: 0.9474 - val_loss: 0.4282 - val_accuracy: 0.8556\n",
      "Epoch 26/50\n",
      "5040/5040 [==============================] - 2s 323us/step - loss: 0.1344 - accuracy: 0.9464 - val_loss: 0.4191 - val_accuracy: 0.8476\n",
      "Epoch 27/50\n",
      "5040/5040 [==============================] - 2s 298us/step - loss: 0.1334 - accuracy: 0.9458 - val_loss: 0.4774 - val_accuracy: 0.8286\n",
      "Epoch 28/50\n",
      "5040/5040 [==============================] - 2s 322us/step - loss: 0.1336 - accuracy: 0.9482 - val_loss: 0.4174 - val_accuracy: 0.8516\n",
      "Epoch 29/50\n",
      "5040/5040 [==============================] - 2s 312us/step - loss: 0.1294 - accuracy: 0.9502 - val_loss: 0.4316 - val_accuracy: 0.8429\n",
      "Epoch 30/50\n",
      "5040/5040 [==============================] - 2s 325us/step - loss: 0.1211 - accuracy: 0.9522 - val_loss: 0.4112 - val_accuracy: 0.8563\n",
      "Epoch 31/50\n",
      "5040/5040 [==============================] - 1s 292us/step - loss: 0.1259 - accuracy: 0.9486 - val_loss: 0.4631 - val_accuracy: 0.8444\n",
      "Epoch 32/50\n",
      "5040/5040 [==============================] - 2s 312us/step - loss: 0.1184 - accuracy: 0.9558 - val_loss: 0.4503 - val_accuracy: 0.8500\n",
      "Epoch 33/50\n",
      "5040/5040 [==============================] - 1s 278us/step - loss: 0.1247 - accuracy: 0.9526 - val_loss: 0.4516 - val_accuracy: 0.8508\n",
      "Epoch 34/50\n",
      "5040/5040 [==============================] - 1s 273us/step - loss: 0.1194 - accuracy: 0.9514 - val_loss: 0.4406 - val_accuracy: 0.8500\n",
      "Epoch 35/50\n",
      "5040/5040 [==============================] - 1s 261us/step - loss: 0.1149 - accuracy: 0.9550 - val_loss: 0.4536 - val_accuracy: 0.8587\n",
      "Epoch 36/50\n",
      "5040/5040 [==============================] - 1s 253us/step - loss: 0.1055 - accuracy: 0.9581 - val_loss: 0.4687 - val_accuracy: 0.8413\n",
      "Epoch 37/50\n",
      "5040/5040 [==============================] - 2s 323us/step - loss: 0.1143 - accuracy: 0.9554 - val_loss: 0.4580 - val_accuracy: 0.8460\n",
      "Epoch 38/50\n",
      "5040/5040 [==============================] - 1s 256us/step - loss: 0.0972 - accuracy: 0.9633 - val_loss: 0.4722 - val_accuracy: 0.8413\n",
      "Epoch 39/50\n",
      "5040/5040 [==============================] - 1s 268us/step - loss: 0.1152 - accuracy: 0.9544 - val_loss: 0.4942 - val_accuracy: 0.8381\n",
      "Epoch 40/50\n",
      "5040/5040 [==============================] - 1s 277us/step - loss: 0.1113 - accuracy: 0.9567 - val_loss: 0.4647 - val_accuracy: 0.8389\n",
      "Epoch 41/50\n",
      "5040/5040 [==============================] - 2s 300us/step - loss: 0.0952 - accuracy: 0.9625 - val_loss: 0.4752 - val_accuracy: 0.8460\n",
      "Epoch 42/50\n",
      "5040/5040 [==============================] - 1s 251us/step - loss: 0.0954 - accuracy: 0.9639 - val_loss: 0.5150 - val_accuracy: 0.8270\n",
      "Epoch 43/50\n",
      "5040/5040 [==============================] - 1s 264us/step - loss: 0.1055 - accuracy: 0.9599 - val_loss: 0.4876 - val_accuracy: 0.8508\n",
      "Epoch 44/50\n",
      "5040/5040 [==============================] - 1s 252us/step - loss: 0.0965 - accuracy: 0.9637 - val_loss: 0.4954 - val_accuracy: 0.8421\n",
      "Epoch 45/50\n",
      "5040/5040 [==============================] - 1s 241us/step - loss: 0.0979 - accuracy: 0.9623 - val_loss: 0.4342 - val_accuracy: 0.8540\n",
      "Epoch 46/50\n",
      "5040/5040 [==============================] - 1s 280us/step - loss: 0.1052 - accuracy: 0.9591 - val_loss: 0.4481 - val_accuracy: 0.8563\n",
      "Epoch 47/50\n",
      "5040/5040 [==============================] - 1s 270us/step - loss: 0.0969 - accuracy: 0.9651 - val_loss: 0.4822 - val_accuracy: 0.8444\n",
      "Epoch 48/50\n",
      "5040/5040 [==============================] - 1s 273us/step - loss: 0.0976 - accuracy: 0.9629 - val_loss: 0.5292 - val_accuracy: 0.8341\n",
      "Epoch 49/50\n",
      "5040/5040 [==============================] - 1s 254us/step - loss: 0.0985 - accuracy: 0.9631 - val_loss: 0.4799 - val_accuracy: 0.8516\n",
      "Epoch 50/50\n",
      "5040/5040 [==============================] - 1s 261us/step - loss: 0.0806 - accuracy: 0.9685 - val_loss: 0.4798 - val_accuracy: 0.8437\n"
     ]
    }
   ],
   "source": [
    "BATCH_SIZE = 24 \n",
    "EPOCHS = 50\n",
    "\n",
    "history = model.fit(x_t,y_t,\n",
    "                    verbose=1,\n",
    "                    epochs= EPOCHS,\n",
    "                    validation_data=(x_v,y_v))"
   ]
  },
  {
   "cell_type": "code",
   "execution_count": 59,
   "metadata": {},
   "outputs": [
    {
     "name": "stdout",
     "output_type": "stream",
     "text": [
      "Test loss: 0.5947519920150394\n",
      "Test accuracy: 0.8233295679092407\n"
     ]
    }
   ],
   "source": [
    "score = model.evaluate(x_test, y_test_cat, verbose=0)\n",
    "print('Test loss:', score[0])\n",
    "print('Test accuracy:', score[1])\n"
   ]
  },
  {
   "cell_type": "code",
   "execution_count": null,
   "metadata": {},
   "outputs": [],
   "source": [
    "#fig, ax = plt.subplots(figsize=(16,10))\n",
    "y_pred = clf.predict(x_test)\n",
    "report = classification_report(y_test, y_pred)\n",
    "plot_confusion_matrix(clf, x_test, y_test,\n",
    "                        cmap=plt.cm.Blues,\n",
    "                         normalize='true',\n",
    "                         xticks_rotation='horizontal')\n",
    "print(report)"
   ]
  },
  {
   "cell_type": "code",
   "execution_count": 25,
   "metadata": {},
   "outputs": [
    {
     "data": {
      "text/plain": [
       "array([[ 1.55299997,  1.55700004,  1.54799998, ...,  1.59899998,\n",
       "         1.61300004,  1.579     ],\n",
       "       [65.53299713, 65.53299713, 65.53299713, ...,  1.99300003,\n",
       "         1.98800004,  1.99000001],\n",
       "       [ 1.02900004,  1.01900005,  1.01400006, ..., 65.53299713,\n",
       "        65.53299713, 65.53299713],\n",
       "       ...,\n",
       "       [ 1.57599998,  1.57299995,  1.57099998, ..., 65.53299713,\n",
       "        65.53299713, 65.53299713],\n",
       "       [ 1.72000003,  1.71800005,  1.70899999, ...,  1.33399999,\n",
       "         1.35399997,  1.36300004],\n",
       "       [ 1.88999999,  1.875     ,  1.87100005, ..., 65.53299713,\n",
       "        65.53299713, 65.53299713]])"
      ]
     },
     "execution_count": 25,
     "metadata": {},
     "output_type": "execute_result"
    }
   ],
   "source": [
    "x_train_res"
   ]
  },
  {
   "cell_type": "code",
   "execution_count": null,
   "metadata": {},
   "outputs": [],
   "source": []
  }
 ],
 "metadata": {
  "kernelspec": {
   "display_name": "Python 3",
   "language": "python",
   "name": "python3"
  },
  "language_info": {
   "codemirror_mode": {
    "name": "ipython",
    "version": 3
   },
   "file_extension": ".py",
   "mimetype": "text/x-python",
   "name": "python",
   "nbconvert_exporter": "python",
   "pygments_lexer": "ipython3",
   "version": "3.7.7"
  }
 },
 "nbformat": 4,
 "nbformat_minor": 4
}
