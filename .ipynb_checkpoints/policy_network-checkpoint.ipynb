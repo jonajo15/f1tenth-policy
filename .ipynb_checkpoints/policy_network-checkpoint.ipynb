{
 "cells": [
  {
   "cell_type": "code",
   "execution_count": 32,
   "metadata": {},
   "outputs": [],
   "source": [
    "import numpy as np\n",
    "import pandas as pd\n",
    "import seaborn as sns\n",
    "import matplotlib.pyplot as plt\n",
    "import os\n",
    "\n",
    "from imblearn.over_sampling import SMOTE\n",
    "from imblearn.under_sampling import NearMiss\n",
    "\n",
    "from sklearn.model_selection import GridSearchCV\n",
    "from sklearn.multiclass import OneVsRestClassifier\n",
    "from sklearn.neural_network import MLPClassifier, MLPRegressor\n",
    "from sklearn.model_selection import train_test_split\n",
    "from sklearn.model_selection import cross_val_score\n",
    "from sklearn.metrics import plot_confusion_matrix\n",
    "from sklearn.metrics import confusion_matrix\n",
    "from sklearn.metrics import classification_report\n",
    "\n",
    "import tensorflow as tf\n",
    "from tensorflow import keras\n",
    "\n",
    "from keras.models import Sequential\n",
    "from keras.layers.normalization import BatchNormalization\n",
    "from keras.layers.core import Activation\n",
    "from keras.layers.core import Flatten\n",
    "from keras.layers.core import Dropout\n",
    "from keras.layers.core import Dense\n",
    "from keras.layers import Input\n",
    "from keras.optimizers import Adam\n",
    "from keras.models import Model\n",
    "\n",
    "dataset = pd.read_csv('../Dataset_refined/dataset_course2.csv', sep=',')\n",
    "dataset = dataset.drop(['velocity'], axis=1)\n",
    "X = dataset.iloc[:,0:-1].values\n",
    "y = dataset.iloc[:,-1].values\n",
    "\n",
    "os.environ['CUDA_VISIBLE_DEVICES'] = \"0\""
   ]
  },
  {
   "cell_type": "code",
   "execution_count": 33,
   "metadata": {},
   "outputs": [
    {
     "name": "stdout",
     "output_type": "stream",
     "text": [
      "Tue Apr  7 11:23:18 2020       \r\n",
      "+-----------------------------------------------------------------------------+\r\n",
      "| NVIDIA-SMI 430.50       Driver Version: 430.50       CUDA Version: 10.1     |\r\n",
      "|-------------------------------+----------------------+----------------------+\r\n",
      "| GPU  Name        Persistence-M| Bus-Id        Disp.A | Volatile Uncorr. ECC |\r\n",
      "| Fan  Temp  Perf  Pwr:Usage/Cap|         Memory-Usage | GPU-Util  Compute M. |\r\n",
      "|===============================+======================+======================|\r\n",
      "|   0  GeForce GTX 106...  Off  | 00000000:01:00.0  On |                  N/A |\r\n",
      "| 35%   39C    P0    26W / 120W |    886MiB /  6077MiB |      0%      Default |\r\n",
      "+-------------------------------+----------------------+----------------------+\r\n",
      "                                                                               \r\n",
      "+-----------------------------------------------------------------------------+\r\n",
      "| Processes:                                                       GPU Memory |\r\n",
      "|  GPU       PID   Type   Process name                             Usage      |\r\n",
      "|=============================================================================|\r\n",
      "|    0      1352      G   /usr/lib/xorg/Xorg                           578MiB |\r\n",
      "|    0      1632      G   /usr/bin/gnome-shell                         174MiB |\r\n",
      "|    0      2639      G   ...uest-channel-token=10247589903853530491    60MiB |\r\n",
      "|    0      3588      G   ...quest-channel-token=1036139712046013691    29MiB |\r\n",
      "|    0      3593      G   ...uest-channel-token=16065653376292590915    41MiB |\r\n",
      "+-----------------------------------------------------------------------------+\r\n"
     ]
    }
   ],
   "source": [
    "!nvidia-smi"
   ]
  },
  {
   "cell_type": "code",
   "execution_count": 34,
   "metadata": {},
   "outputs": [],
   "source": [
    "x_train, x_test, y_train, y_test = train_test_split(X, y, test_size=0.20, random_state=42)"
   ]
  },
  {
   "cell_type": "code",
   "execution_count": 4,
   "metadata": {},
   "outputs": [],
   "source": [
    "#classify data\n",
    "def classify5classes(data):\n",
    "    classified_data = []\n",
    "    limits = []\n",
    "    parts = 0.4189*2/5\n",
    "    start = -0.4189\n",
    "    for i in range(1,5):\n",
    "        limits.append(start + parts*i)\n",
    "    \n",
    "    print(limits)\n",
    "    for sample in data:\n",
    "        if sample < limits[0]:\n",
    "            classified_data.append('Hard_left')\n",
    "        elif sample >= limits[0] and sample < limits[1] :\n",
    "            classified_data.append('Slight_left')\n",
    "        elif sample >= limits[1] and sample < limits[2]:\n",
    "            classified_data.append('Straight')\n",
    "        elif sample >= limits[2] and sample < limits[3]:\n",
    "            classified_data.append('Slight_right')\n",
    "        elif sample >= limits[3]:\n",
    "            classified_data.append('Hard_right')\n",
    "              \n",
    "    \n",
    "    return classified_data"
   ]
  },
  {
   "cell_type": "code",
   "execution_count": 5,
   "metadata": {},
   "outputs": [],
   "source": [
    "#classify data\n",
    "def classify3classes(data):\n",
    "    classified_data = []\n",
    "    limits = []\n",
    "    parts = 0.4189*2/3\n",
    "    start = -0.4189\n",
    "    for i in range(1,3):\n",
    "        limits.append(start + parts*i)\n",
    "    \n",
    "    print(limits)\n",
    "    for sample in data:\n",
    "        if sample < limits[0]:\n",
    "            classified_data.append('left')\n",
    "        elif sample >= limits[0] and sample < limits[1] :\n",
    "            classified_data.append('straight')\n",
    "        elif sample >= limits[1]:\n",
    "            classified_data.append('right')\n",
    "              \n",
    "    \n",
    "    return classified_data"
   ]
  },
  {
   "cell_type": "code",
   "execution_count": 6,
   "metadata": {},
   "outputs": [],
   "source": [
    "#classify data\n",
    "def classify2classes(data):\n",
    "    classified_data = []\n",
    "    limits = []\n",
    "    parts = 0.4189\n",
    "    start = -0.4189\n",
    "    for i in range(1,2):\n",
    "        limits.append(start + parts*i)\n",
    "    \n",
    "    print(limits)\n",
    "    for sample in data:\n",
    "        if sample < limits[0]:\n",
    "            classified_data.append('0')\n",
    "        elif sample >= limits[0]:\n",
    "            classified_data.append('1')\n",
    "              \n",
    "    \n",
    "    return classified_data"
   ]
  },
  {
   "cell_type": "code",
   "execution_count": 7,
   "metadata": {},
   "outputs": [
    {
     "name": "stdout",
     "output_type": "stream",
     "text": [
      "[0.0]\n",
      "[0.0]\n"
     ]
    },
    {
     "data": {
      "text/plain": [
       "<matplotlib.axes._subplots.AxesSubplot at 0x7fdf732db210>"
      ]
     },
     "execution_count": 7,
     "metadata": {},
     "output_type": "execute_result"
    },
    {
     "data": {
      "image/png": "[encoded data removed]",
      "text/plain": [
       "<Figure size 432x288 with 1 Axes>"
      ]
     },
     "metadata": {
      "needs_background": "light"
     },
     "output_type": "display_data"
    }
   ],
   "source": [
    "#classify\n",
    "y_train = classify2classes(y_train)\n",
    "y_test = classify2classes(y_test)\n",
    "df = pd.DataFrame(y_train, columns=['classes'])\n",
    "sns.countplot(x = 'classes',data=df)"
   ]
  },
  {
   "cell_type": "code",
   "execution_count": 8,
   "metadata": {},
   "outputs": [
    {
     "data": {
      "text/plain": [
       "<matplotlib.axes._subplots.AxesSubplot at 0x7fdf732b7310>"
      ]
     },
     "execution_count": 8,
     "metadata": {},
     "output_type": "execute_result"
    },
    {
     "data": {
      "image/png": "[encoded data removed]",
      "text/plain": [
       "<Figure size 432x288 with 1 Axes>"
      ]
     },
     "metadata": {
      "needs_background": "light"
     },
     "output_type": "display_data"
    }
   ],
   "source": [
    "#Undersampling\n",
    "nm = NearMiss(version=1)\n",
    "x_train_res, y_train_res = nm.fit_resample(x_train, y_train)\n",
    "df_res = pd.DataFrame(y_train_res, columns=['classes'])\n",
    "sns.countplot(x = 'classes',data=df_res)"
   ]
  },
  {
   "cell_type": "code",
   "execution_count": 9,
   "metadata": {},
   "outputs": [
    {
     "data": {
      "text/plain": [
       "<matplotlib.axes._subplots.AxesSubplot at 0x7fcf9f22c150>"
      ]
     },
     "execution_count": 9,
     "metadata": {},
     "output_type": "execute_result"
    },
    {
     "data": {
      "image/png": "[encoded data removed]",
      "text/plain": [
       "<Figure size 432x288 with 1 Axes>"
      ]
     },
     "metadata": {
      "needs_background": "light"
     },
     "output_type": "display_data"
    }
   ],
   "source": [
    "df2 = pd.DataFrame(y_test, columns=['classes'])\n",
    "sns.countplot(x = 'classes',data=df2)"
   ]
  },
  {
   "cell_type": "code",
   "execution_count": 46,
   "metadata": {},
   "outputs": [],
   "source": [
    "from sklearn.preprocessing import MinMaxScaler\n",
    "scaler = MinMaxScaler()\n",
    "scaler.fit(X)\n",
    "x_train = scaler.transform(x_train)\n",
    "x_test = scaler.transform(x_test)"
   ]
  },
  {
   "cell_type": "code",
   "execution_count": 79,
   "metadata": {},
   "outputs": [
    {
     "name": "stdout",
     "output_type": "stream",
     "text": [
      "Best parameters found:\n",
      " {'activation': 'relu', 'alpha': 0.0001, 'hidden_layer_sizes': (80, 100, 80), 'learning_rate': 'constant', 'solver': 'adam'}\n",
      "0.553 (+/-0.053) for {'activation': 'relu', 'alpha': 0.0001, 'hidden_layer_sizes': (80, 100, 80), 'learning_rate': 'constant', 'solver': 'adam'}\n",
      "0.529 (+/-0.055) for {'activation': 'relu', 'alpha': 0.0001, 'hidden_layer_sizes': (80, 90, 80), 'learning_rate': 'constant', 'solver': 'adam'}\n",
      "0.476 (+/-0.063) for {'activation': 'tanh', 'alpha': 0.0001, 'hidden_layer_sizes': (80, 100, 80), 'learning_rate': 'constant', 'solver': 'adam'}\n",
      "0.485 (+/-0.082) for {'activation': 'tanh', 'alpha': 0.0001, 'hidden_layer_sizes': (80, 90, 80), 'learning_rate': 'constant', 'solver': 'adam'}\n"
     ]
    }
   ],
   "source": [
    "#MLP Grid search model\n",
    "mlp = MLPRegressor(max_iter=200)\n",
    "parameter_space = {\n",
    "    'hidden_layer_sizes': [(80,100,80),(80,90,80)],\n",
    "    'activation': ['relu', 'tanh'],\n",
    "    'solver': ['adam'],\n",
    "    'alpha': [0.0001],\n",
    "    'learning_rate': ['constant'],\n",
    "}\n",
    "clf = GridSearchCV(mlp, parameter_space, n_jobs=-1, cv=5)\n",
    "clf.fit(x_train, y_train)\n",
    "\n",
    "# Best paramete set\n",
    "print('Best parameters found:\\n', clf.best_params_)\n",
    "\n",
    "# All results\n",
    "means = clf.cv_results_['mean_test_score']\n",
    "stds = clf.cv_results_['std_test_score']\n",
    "for mean, std, params in zip(means, stds, clf.cv_results_['params']):\n",
    "    print(\"%0.3f (+/-%0.03f) for %r\" % (mean, std * 2, params))"
   ]
  },
  {
   "cell_type": "code",
   "execution_count": 83,
   "metadata": {},
   "outputs": [
    {
     "data": {
      "image/png": "[encoded data removed]",
      "text/plain": [
       "<Figure size 432x288 with 1 Axes>"
      ]
     },
     "metadata": {
      "needs_background": "light"
     },
     "output_type": "display_data"
    },
    {
     "name": "stdout",
     "output_type": "stream",
     "text": [
      "0.6271271887753419\n",
      "0.01934308340297567\n"
     ]
    }
   ],
   "source": [
    "from sklearn.metrics import r2_score, mean_squared_error\n",
    "y_pred = clf.predict(x_test)\n",
    "fig = plt.figure()\n",
    "ax1 = fig.add_subplot(111)\n",
    "\n",
    "ax1.scatter(range(len(y_pred)), y_pred, s=10, c='b', marker=\"s\", label='predicted')\n",
    "ax1.scatter(range(len(y_test)),y_test, s=10, c='r', marker=\"o\", label='true')\n",
    "plt.legend(loc='upper left');\n",
    "plt.show()\n",
    "\n",
    "print(\"R2: \", r2_score(y_test, y_pred))\n",
    "print(\"MSE: \", mean_squared_error(y_test, y_pred))"
   ]
  },
  {
   "cell_type": "code",
   "execution_count": 81,
   "metadata": {},
   "outputs": [
    {
     "name": "stdout",
     "output_type": "stream",
     "text": [
      "pred:  -0.20354418728717266 , true:  -0.11557794362306595\n",
      "pred:  -0.47282070820458116 , true:  -0.4189000129699707\n",
      "pred:  -0.4685344626231689 , true:  -0.4189000129699707\n",
      "pred:  0.3909508370842209 , true:  -0.0\n",
      "pred:  0.40351139428419525 , true:  0.242033913731575\n",
      "pred:  0.06585792522495966 , true:  -0.0\n",
      "pred:  0.07787085624712765 , true:  -0.0\n",
      "pred:  0.26388163256610264 , true:  0.4189000129699707\n",
      "pred:  0.10317867421342271 , true:  -0.004409204702824354\n",
      "pred:  -0.4032158952688516 , true:  -0.4189000129699707\n"
     ]
    }
   ],
   "source": [
    "for i in range(10):\n",
    "    print(\"pred: \", y_pred[i], \", true: \",y_test[i])"
   ]
  },
  {
   "cell_type": "code",
   "execution_count": 26,
   "metadata": {},
   "outputs": [
    {
     "name": "stdout",
     "output_type": "stream",
     "text": [
      "Model: \"model_3\"\n",
      "_________________________________________________________________\n",
      "Layer (type)                 Output Shape              Param #   \n",
      "=================================================================\n",
      "input_3 (InputLayer)         (None, 1081)              0         \n",
      "_________________________________________________________________\n",
      "dense_9 (Dense)              (None, 50)                54100     \n",
      "_________________________________________________________________\n",
      "activation_9 (Activation)    (None, 50)                0         \n",
      "_________________________________________________________________\n",
      "dense_10 (Dense)             (None, 1)                 51        \n",
      "_________________________________________________________________\n",
      "activation_10 (Activation)   (None, 1)                 0         \n",
      "=================================================================\n",
      "Total params: 54,151\n",
      "Trainable params: 54,151\n",
      "Non-trainable params: 0\n",
      "_________________________________________________________________\n"
     ]
    }
   ],
   "source": [
    "#Keras sequential model\n",
    "inputs = Input(shape=(1081,))\n",
    "\n",
    "dense1 = Dense(50)(inputs)\n",
    "dense1 = Activation(\"relu\")(dense1)\n",
    "\n",
    "dense2 = Dense(70)(dense1)\n",
    "dense2 = Activation(\"relu\")(dense2)\n",
    "\n",
    "dense3 = Dense(90)(dense2)\n",
    "dense3 = Activation(\"relu\")(dense3)\n",
    "\n",
    "dense4 = Dense(90)(dense3)\n",
    "dense4 = Activation(\"relu\")(dense4)\n",
    "\n",
    "dense5 = Dense(90)(dense4)\n",
    "dense5 = Activation(\"relu\")(dense5)\n",
    "\n",
    "\n",
    "# softmax classifier\n",
    "final = Dense(2)(dense5)\n",
    "final = Activation(\"softmax\")(final)\n",
    "\n",
    "model = Model(inputs=inputs, outputs=final)\n",
    "model.summary()"
   ]
  },
  {
   "cell_type": "code",
   "execution_count": 27,
   "metadata": {},
   "outputs": [],
   "source": [
    "model.compile(loss=keras.losses.categorical_crossentropy,\n",
    "              optimizer= Adam(), metrics=['accuracy'])"
   ]
  },
  {
   "cell_type": "code",
   "execution_count": 28,
   "metadata": {},
   "outputs": [],
   "source": [
    "y_train_cat = keras.utils.to_categorical(y_train_res, 2)\n",
    "y_test_cat = keras.utils.to_categorical(y_test, 2)\n",
    "\n",
    "x_t, x_v, y_t, y_v = train_test_split(x_train_res, y_train_cat, test_size=0.20, random_state=42)"
   ]
  },
  {
   "cell_type": "code",
   "execution_count": 29,
   "metadata": {},
   "outputs": [
    {
     "name": "stdout",
     "output_type": "stream",
     "text": [
      "Train on 5648 samples, validate on 1413 samples\n",
      "Epoch 1/50\n",
      "5648/5648 [==============================] - 1s 170us/step - loss: 0.7848 - mean_squared_error: 0.7848 - val_loss: 0.0506 - val_mean_squared_error: 0.0506\n",
      "Epoch 2/50\n",
      "5648/5648 [==============================] - 1s 113us/step - loss: 0.0483 - mean_squared_error: 0.0483 - val_loss: 0.0506 - val_mean_squared_error: 0.0506\n",
      "Epoch 3/50\n",
      "5648/5648 [==============================] - 1s 99us/step - loss: 0.0483 - mean_squared_error: 0.0483 - val_loss: 0.0506 - val_mean_squared_error: 0.0506\n",
      "Epoch 4/50\n",
      "5648/5648 [==============================] - 1s 91us/step - loss: 0.0483 - mean_squared_error: 0.0483 - val_loss: 0.0506 - val_mean_squared_error: 0.0506\n",
      "Epoch 5/50\n",
      "5648/5648 [==============================] - 1s 95us/step - loss: 0.0483 - mean_squared_error: 0.0483 - val_loss: 0.0506 - val_mean_squared_error: 0.0506\n",
      "Epoch 6/50\n",
      "5648/5648 [==============================] - 1s 89us/step - loss: 0.0483 - mean_squared_error: 0.0483 - val_loss: 0.0506 - val_mean_squared_error: 0.0506\n",
      "Epoch 7/50\n",
      "5648/5648 [==============================] - 0s 77us/step - loss: 0.0483 - mean_squared_error: 0.0483 - val_loss: 0.0506 - val_mean_squared_error: 0.0506\n",
      "Epoch 8/50\n",
      "5648/5648 [==============================] - 0s 86us/step - loss: 0.0483 - mean_squared_error: 0.0483 - val_loss: 0.0506 - val_mean_squared_error: 0.0506\n",
      "Epoch 9/50\n",
      "5648/5648 [==============================] - 1s 122us/step - loss: 0.0483 - mean_squared_error: 0.0483 - val_loss: 0.0506 - val_mean_squared_error: 0.0506\n",
      "Epoch 10/50\n",
      "5648/5648 [==============================] - 1s 119us/step - loss: 0.0483 - mean_squared_error: 0.0483 - val_loss: 0.0506 - val_mean_squared_error: 0.0506\n",
      "Epoch 11/50\n",
      "5648/5648 [==============================] - 1s 97us/step - loss: 0.0483 - mean_squared_error: 0.0483 - val_loss: 0.0506 - val_mean_squared_error: 0.0506\n",
      "Epoch 12/50\n",
      "5648/5648 [==============================] - 1s 116us/step - loss: 0.0483 - mean_squared_error: 0.0483 - val_loss: 0.0506 - val_mean_squared_error: 0.0506\n",
      "Epoch 13/50\n",
      "5648/5648 [==============================] - 1s 117us/step - loss: 0.0483 - mean_squared_error: 0.0483 - val_loss: 0.0506 - val_mean_squared_error: 0.0506\n",
      "Epoch 14/50\n",
      "5648/5648 [==============================] - 1s 98us/step - loss: 0.0483 - mean_squared_error: 0.0483 - val_loss: 0.0506 - val_mean_squared_error: 0.0506\n",
      "Epoch 15/50\n",
      "5648/5648 [==============================] - 1s 135us/step - loss: 0.0483 - mean_squared_error: 0.0483 - val_loss: 0.0506 - val_mean_squared_error: 0.0506\n",
      "Epoch 16/50\n",
      "5648/5648 [==============================] - 1s 115us/step - loss: 0.0483 - mean_squared_error: 0.0483 - val_loss: 0.0506 - val_mean_squared_error: 0.0506\n",
      "Epoch 17/50\n",
      "5648/5648 [==============================] - 1s 125us/step - loss: 0.0483 - mean_squared_error: 0.0483 - val_loss: 0.0506 - val_mean_squared_error: 0.0506\n",
      "Epoch 18/50\n",
      "5648/5648 [==============================] - 1s 99us/step - loss: 0.0483 - mean_squared_error: 0.0483 - val_loss: 0.0506 - val_mean_squared_error: 0.0506\n",
      "Epoch 19/50\n",
      "5648/5648 [==============================] - 1s 110us/step - loss: 0.0483 - mean_squared_error: 0.0483 - val_loss: 0.0506 - val_mean_squared_error: 0.0506\n",
      "Epoch 20/50\n",
      "5648/5648 [==============================] - 1s 106us/step - loss: 0.0483 - mean_squared_error: 0.0483 - val_loss: 0.0506 - val_mean_squared_error: 0.0506\n",
      "Epoch 21/50\n",
      "5648/5648 [==============================] - 1s 102us/step - loss: 0.0483 - mean_squared_error: 0.0483 - val_loss: 0.0506 - val_mean_squared_error: 0.0506\n",
      "Epoch 22/50\n",
      "5648/5648 [==============================] - 1s 99us/step - loss: 0.0483 - mean_squared_error: 0.0483 - val_loss: 0.0506 - val_mean_squared_error: 0.0506\n",
      "Epoch 23/50\n",
      "5648/5648 [==============================] - 1s 110us/step - loss: 0.0483 - mean_squared_error: 0.0483 - val_loss: 0.0506 - val_mean_squared_error: 0.0506\n",
      "Epoch 24/50\n",
      "5648/5648 [==============================] - 1s 113us/step - loss: 0.0483 - mean_squared_error: 0.0483 - val_loss: 0.0506 - val_mean_squared_error: 0.0506\n",
      "Epoch 25/50\n",
      "5648/5648 [==============================] - 1s 106us/step - loss: 0.0483 - mean_squared_error: 0.0483 - val_loss: 0.0506 - val_mean_squared_error: 0.0506\n",
      "Epoch 26/50\n",
      "5648/5648 [==============================] - 1s 165us/step - loss: 0.0483 - mean_squared_error: 0.0483 - val_loss: 0.0506 - val_mean_squared_error: 0.0506\n",
      "Epoch 27/50\n",
      "5648/5648 [==============================] - 1s 154us/step - loss: 0.0483 - mean_squared_error: 0.0483 - val_loss: 0.0506 - val_mean_squared_error: 0.0506\n",
      "Epoch 28/50\n",
      "5648/5648 [==============================] - 1s 170us/step - loss: 0.0483 - mean_squared_error: 0.0483 - val_loss: 0.0506 - val_mean_squared_error: 0.0506\n",
      "Epoch 29/50\n",
      "5648/5648 [==============================] - 1s 143us/step - loss: 0.0483 - mean_squared_error: 0.0483 - val_loss: 0.0506 - val_mean_squared_error: 0.0506\n",
      "Epoch 30/50\n",
      "5648/5648 [==============================] - 1s 131us/step - loss: 0.0483 - mean_squared_error: 0.0483 - val_loss: 0.0506 - val_mean_squared_error: 0.0506\n",
      "Epoch 31/50\n",
      "5648/5648 [==============================] - 1s 121us/step - loss: 0.0483 - mean_squared_error: 0.0483 - val_loss: 0.0506 - val_mean_squared_error: 0.0506\n",
      "Epoch 32/50\n",
      "5648/5648 [==============================] - 1s 140us/step - loss: 0.0483 - mean_squared_error: 0.0483 - val_loss: 0.0506 - val_mean_squared_error: 0.0506\n",
      "Epoch 33/50\n",
      "5648/5648 [==============================] - 1s 175us/step - loss: 0.0483 - mean_squared_error: 0.0483 - val_loss: 0.0506 - val_mean_squared_error: 0.0506\n",
      "Epoch 34/50\n",
      "5648/5648 [==============================] - 1s 132us/step - loss: 0.0483 - mean_squared_error: 0.0483 - val_loss: 0.0506 - val_mean_squared_error: 0.0506\n",
      "Epoch 35/50\n",
      "5648/5648 [==============================] - 1s 148us/step - loss: 0.0483 - mean_squared_error: 0.0483 - val_loss: 0.0506 - val_mean_squared_error: 0.0506\n",
      "Epoch 36/50\n",
      "5648/5648 [==============================] - 1s 98us/step - loss: 0.0483 - mean_squared_error: 0.0483 - val_loss: 0.0506 - val_mean_squared_error: 0.0506\n",
      "Epoch 37/50\n",
      "5648/5648 [==============================] - 0s 88us/step - loss: 0.0483 - mean_squared_error: 0.0483 - val_loss: 0.0506 - val_mean_squared_error: 0.0506\n",
      "Epoch 38/50\n",
      "5648/5648 [==============================] - 1s 143us/step - loss: 0.0483 - mean_squared_error: 0.0483 - val_loss: 0.0506 - val_mean_squared_error: 0.0506\n",
      "Epoch 39/50\n",
      "5648/5648 [==============================] - 1s 134us/step - loss: 0.0483 - mean_squared_error: 0.0483 - val_loss: 0.0506 - val_mean_squared_error: 0.0506\n",
      "Epoch 40/50\n",
      "5648/5648 [==============================] - 1s 114us/step - loss: 0.0483 - mean_squared_error: 0.0483 - val_loss: 0.0506 - val_mean_squared_error: 0.0506\n",
      "Epoch 41/50\n",
      "5648/5648 [==============================] - 1s 100us/step - loss: 0.0483 - mean_squared_error: 0.0483 - val_loss: 0.0506 - val_mean_squared_error: 0.0506\n",
      "Epoch 42/50\n",
      "5648/5648 [==============================] - 0s 88us/step - loss: 0.0483 - mean_squared_error: 0.0483 - val_loss: 0.0506 - val_mean_squared_error: 0.0506\n",
      "Epoch 43/50\n",
      "5648/5648 [==============================] - 1s 97us/step - loss: 0.0483 - mean_squared_error: 0.0483 - val_loss: 0.0506 - val_mean_squared_error: 0.0506\n",
      "Epoch 44/50\n",
      "5648/5648 [==============================] - 1s 100us/step - loss: 0.0483 - mean_squared_error: 0.0483 - val_loss: 0.0506 - val_mean_squared_error: 0.0506\n",
      "Epoch 45/50\n",
      "5648/5648 [==============================] - 1s 116us/step - loss: 0.0483 - mean_squared_error: 0.0483 - val_loss: 0.0506 - val_mean_squared_error: 0.0506\n",
      "Epoch 46/50\n",
      "5648/5648 [==============================] - 1s 89us/step - loss: 0.0483 - mean_squared_error: 0.0483 - val_loss: 0.0506 - val_mean_squared_error: 0.0506\n",
      "Epoch 47/50\n",
      "5648/5648 [==============================] - 1s 116us/step - loss: 0.0483 - mean_squared_error: 0.0483 - val_loss: 0.0506 - val_mean_squared_error: 0.0506\n",
      "Epoch 48/50\n",
      "5648/5648 [==============================] - 1s 93us/step - loss: 0.0483 - mean_squared_error: 0.0483 - val_loss: 0.0506 - val_mean_squared_error: 0.0506\n",
      "Epoch 49/50\n",
      "5648/5648 [==============================] - 1s 101us/step - loss: 0.0483 - mean_squared_error: 0.0483 - val_loss: 0.0506 - val_mean_squared_error: 0.0506\n"
     ]
    },
    {
     "name": "stdout",
     "output_type": "stream",
     "text": [
      "Epoch 50/50\n",
      "5648/5648 [==============================] - 0s 82us/step - loss: 0.0483 - mean_squared_error: 0.0483 - val_loss: 0.0506 - val_mean_squared_error: 0.0506\n"
     ]
    }
   ],
   "source": [
    "BATCH_SIZE = 24 \n",
    "EPOCHS = 50\n",
    "\n",
    "history = model.fit(x_t,y_t,\n",
    "                    verbose=1,\n",
    "                    epochs= EPOCHS,\n",
    "                    validation_data=(x_v,y_v))"
   ]
  },
  {
   "cell_type": "code",
   "execution_count": 8,
   "metadata": {},
   "outputs": [
    {
     "name": "stdout",
     "output_type": "stream",
     "text": [
      "Test loss: 0.052272238041931346\n",
      "Test accuracy: 0.052272237837314606\n"
     ]
    }
   ],
   "source": [
    "score = model.evaluate(x_test, y_test, verbose=0)\n",
    "print('Test loss:', score[0])\n",
    "print('Test accuracy:', score[1])\n"
   ]
  },
  {
   "cell_type": "code",
   "execution_count": null,
   "metadata": {},
   "outputs": [],
   "source": [
    "#fig, ax = plt.subplots(figsize=(16,10))\n",
    "y_pred = clf.predict(x_test)\n",
    "report = classification_report(y_test, y_pred)\n",
    "plot_confusion_matrix(clf, x_test, y_test,\n",
    "                        cmap=plt.cm.Blues,\n",
    "                         normalize='true',\n",
    "                         xticks_rotation='horizontal')\n",
    "print(report)"
   ]
  }
 ],
 "metadata": {
  "kernelspec": {
   "display_name": "Python 3",
   "language": "python",
   "name": "python3"
  },
  "language_info": {
   "codemirror_mode": {
    "name": "ipython",
    "version": 3
   },
   "file_extension": ".py",
   "mimetype": "text/x-python",
   "name": "python",
   "nbconvert_exporter": "python",
   "pygments_lexer": "ipython3",
   "version": "3.7.7"
  }
 },
 "nbformat": 4,
 "nbformat_minor": 4
}
