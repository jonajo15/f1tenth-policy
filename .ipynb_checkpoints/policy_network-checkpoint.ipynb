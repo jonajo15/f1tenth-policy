{
 "cells": [
  {
   "cell_type": "code",
   "execution_count": 30,
   "metadata": {},
   "outputs": [],
   "source": [
    "import numpy as np\n",
    "import pandas as pd\n",
    "import seaborn as sns\n",
    "import matplotlib.pyplot as plt\n",
    "\n",
    "from imblearn.over_sampling import SMOTE\n",
    "from imblearn.under_sampling import NearMiss\n",
    "\n",
    "from sklearn.neural_network import MLPClassifier\n",
    "from sklearn.model_selection import train_test_split\n",
    "from sklearn.model_selection import cross_val_score\n",
    "from sklearn.metrics import plot_confusion_matrix\n",
    "from sklearn.metrics import confusion_matrix\n",
    "from sklearn.metrics import classification_report\n",
    "\n",
    "dataset = pd.read_csv('../Dataset_refined/dataset_course2.csv', sep=',')\n",
    "dataset = dataset.drop(['velocity'], axis=1)\n",
    "X = dataset.iloc[:,0:-1].values\n",
    "y = dataset.iloc[:,-1].values"
   ]
  },
  {
   "cell_type": "code",
   "execution_count": 31,
   "metadata": {},
   "outputs": [],
   "source": [
    "x_train, x_test, y_train, y_test = train_test_split(X, y, test_size=0.20, random_state=42)"
   ]
  },
  {
   "cell_type": "code",
   "execution_count": 32,
   "metadata": {},
   "outputs": [],
   "source": [
    "#classify data\n",
    "def classify5classes(data):\n",
    "    classified_data = []\n",
    "    limits = []\n",
    "    parts = 0.4189*2/5\n",
    "    start = -0.4189\n",
    "    for i in range(1,5):\n",
    "        limits.append(start + parts*i)\n",
    "    \n",
    "    print(limits)\n",
    "    for sample in data:\n",
    "        if sample < limits[0]:\n",
    "            classified_data.append('Hard_left')\n",
    "        elif sample >= limits[0] and sample < limits[1] :\n",
    "            classified_data.append('Slight_left')\n",
    "        elif sample >= limits[1] and sample < limits[2]:\n",
    "            classified_data.append('Straight')\n",
    "        elif sample >= limits[2] and sample < limits[3]:\n",
    "            classified_data.append('Slight_right')\n",
    "        elif sample >= limits[3]:\n",
    "            classified_data.append('Hard_right')\n",
    "              \n",
    "    \n",
    "    return classified_data"
   ]
  },
  {
   "cell_type": "code",
   "execution_count": 35,
   "metadata": {},
   "outputs": [],
   "source": [
    "#classify data\n",
    "def classify3classes(data):\n",
    "    classified_data = []\n",
    "    limits = []\n",
    "    parts = 0.4189*2/3\n",
    "    start = -0.4189\n",
    "    for i in range(1,3):\n",
    "        limits.append(start + parts*i)\n",
    "    \n",
    "    print(limits)\n",
    "    for sample in data:\n",
    "        if sample < limits[0]:\n",
    "            classified_data.append('left')\n",
    "        elif sample >= limits[0] and sample < limits[1] :\n",
    "            classified_data.append('straight')\n",
    "        elif sample >= limits[1]:\n",
    "            classified_data.append('right')\n",
    "              \n",
    "    \n",
    "    return classified_data"
   ]
  },
  {
   "cell_type": "code",
   "execution_count": 36,
   "metadata": {},
   "outputs": [
    {
     "name": "stdout",
     "output_type": "stream",
     "text": [
      "[-0.13963333333333333, 0.13963333333333333]\n",
      "[-0.13963333333333333, 0.13963333333333333]\n"
     ]
    },
    {
     "data": {
      "text/plain": [
       "<matplotlib.axes._subplots.AxesSubplot at 0x7fb141568cd0>"
      ]
     },
     "execution_count": 36,
     "metadata": {},
     "output_type": "execute_result"
    },
    {
     "data": {
      "image/png": "[encoded data removed]",
      "text/plain": [
       "<Figure size 432x288 with 1 Axes>"
      ]
     },
     "metadata": {
      "needs_background": "light"
     },
     "output_type": "display_data"
    }
   ],
   "source": [
    "y_train = classify3classes(y_train)\n",
    "y_test = classify3classes(y_test)\n",
    "df = pd.DataFrame(y_train, columns=['classes'])\n",
    "sns.countplot(x = 'classes',data=df)"
   ]
  },
  {
   "cell_type": "code",
   "execution_count": 5,
   "metadata": {},
   "outputs": [
    {
     "data": {
      "text/plain": [
       "<matplotlib.axes._subplots.AxesSubplot at 0x7f2c105e93d0>"
      ]
     },
     "execution_count": 5,
     "metadata": {},
     "output_type": "execute_result"
    },
    {
     "data": {
      "image/png": "[encoded data removed]",
      "text/plain": [
       "<Figure size 432x288 with 1 Axes>"
      ]
     },
     "metadata": {
      "needs_background": "light"
     },
     "output_type": "display_data"
    }
   ],
   "source": [
    "#Oversampling\n",
    "smote = SMOTE(sampling_strategy ='not majority', k_neighbors = 10,random_state=42)\n",
    "x_train_res, y_train_res = smote.fit_resample(x_train, y_train)\n",
    "df_res = pd.DataFrame(y_train_res, columns=['classes'])\n",
    "sns.countplot(x = 'classes',data=df_res)"
   ]
  },
  {
   "cell_type": "code",
   "execution_count": 37,
   "metadata": {},
   "outputs": [
    {
     "data": {
      "text/plain": [
       "<matplotlib.axes._subplots.AxesSubplot at 0x7fb14763ac40>"
      ]
     },
     "execution_count": 37,
     "metadata": {},
     "output_type": "execute_result"
    },
    {
     "data": {
      "image/png": "[encoded data removed]",
      "text/plain": [
       "<Figure size 432x288 with 1 Axes>"
      ]
     },
     "metadata": {
      "needs_background": "light"
     },
     "output_type": "display_data"
    }
   ],
   "source": [
    "#Undersampling\n",
    "nm = NearMiss(version=1)\n",
    "x_train_res, y_train_res = nm.fit_resample(x_train, y_train)\n",
    "df_res = pd.DataFrame(y_train_res, columns=['classes'])\n",
    "sns.countplot(x = 'classes',data=df_res)"
   ]
  },
  {
   "cell_type": "code",
   "execution_count": 38,
   "metadata": {},
   "outputs": [
    {
     "data": {
      "text/plain": [
       "<matplotlib.axes._subplots.AxesSubplot at 0x7fb140480ca0>"
      ]
     },
     "execution_count": 38,
     "metadata": {},
     "output_type": "execute_result"
    },
    {
     "data": {
      "image/png": "[encoded data removed]",
      "text/plain": [
       "<Figure size 432x288 with 1 Axes>"
      ]
     },
     "metadata": {
      "needs_background": "light"
     },
     "output_type": "display_data"
    }
   ],
   "source": [
    "df2 = pd.DataFrame(y_test, columns=['classes'])\n",
    "sns.countplot(x = 'classes',data=df2)"
   ]
  },
  {
   "cell_type": "code",
   "execution_count": 104,
   "metadata": {},
   "outputs": [
    {
     "data": {
      "text/plain": [
       "MLPClassifier(activation='relu', alpha=1e-05, batch_size='auto', beta_1=0.9,\n",
       "              beta_2=0.999, early_stopping=True, epsilon=1e-08,\n",
       "              hidden_layer_sizes=(15, 30, 30, 15), learning_rate='constant',\n",
       "              learning_rate_init=0.005, max_fun=15000, max_iter=200,\n",
       "              momentum=0.9, n_iter_no_change=10, nesterovs_momentum=True,\n",
       "              power_t=0.5, random_state=42, shuffle=True, solver='adam',\n",
       "              tol=0.0001, validation_fraction=0.1, verbose=False,\n",
       "              warm_start=False)"
      ]
     },
     "execution_count": 104,
     "metadata": {},
     "output_type": "execute_result"
    }
   ],
   "source": [
    "mlp = MLPClassifier(solver='adam', alpha=1e-3, hidden_layer_sizes=(15,30,30,15),learning_rate_init=0.005, verbose=False, early_stopping=True,  random_state=42)\n",
    "mlp.fit(x_train_res, y_train_res)"
   ]
  },
  {
   "cell_type": "code",
   "execution_count": 105,
   "metadata": {},
   "outputs": [],
   "source": [
    "y_pred = mlp.predict(x_test)"
   ]
  },
  {
   "cell_type": "code",
   "execution_count": 106,
   "metadata": {},
   "outputs": [
    {
     "name": "stdout",
     "output_type": "stream",
     "text": [
      "              precision    recall  f1-score   support\n",
      "\n",
      "        left       0.40      0.76      0.52       370\n",
      "       right       0.38      0.83      0.52       305\n",
      "    straight       0.81      0.29      0.43      1091\n",
      "\n",
      "    accuracy                           0.48      1766\n",
      "   macro avg       0.53      0.63      0.49      1766\n",
      "weighted avg       0.65      0.48      0.47      1766\n",
      "\n"
     ]
    }
   ],
   "source": [
    "report = classification_report(y_test, y_pred)\n",
    "print(report)"
   ]
  },
  {
   "cell_type": "code",
   "execution_count": 107,
   "metadata": {},
   "outputs": [
    {
     "data": {
      "text/plain": [
       "<sklearn.metrics._plot.confusion_matrix.ConfusionMatrixDisplay at 0x7fb146e10940>"
      ]
     },
     "execution_count": 107,
     "metadata": {},
     "output_type": "execute_result"
    },
    {
     "data": {
      "image/png": "[encoded data removed]",
      "text/plain": [
       "<Figure size 432x288 with 2 Axes>"
      ]
     },
     "metadata": {
      "needs_background": "light"
     },
     "output_type": "display_data"
    }
   ],
   "source": [
    "#fig, ax = plt.subplots(figsize=(16,10))\n",
    "plot_confusion_matrix(mlp, x_test, y_test,\n",
    "                        cmap=plt.cm.Blues,\n",
    "                         normalize='true',\n",
    "                         xticks_rotation='horizontal')"
   ]
  },
  {
   "cell_type": "code",
   "execution_count": null,
   "metadata": {},
   "outputs": [],
   "source": []
  },
  {
   "cell_type": "code",
   "execution_count": null,
   "metadata": {},
   "outputs": [],
   "source": []
  }
 ],
 "metadata": {
  "kernelspec": {
   "display_name": "Python 3",
   "language": "python",
   "name": "python3"
  },
  "language_info": {
   "codemirror_mode": {
    "name": "ipython",
    "version": 3
   },
   "file_extension": ".py",
   "mimetype": "text/x-python",
   "name": "python",
   "nbconvert_exporter": "python",
   "pygments_lexer": "ipython3",
   "version": "3.8.1"
  }
 },
 "nbformat": 4,
 "nbformat_minor": 4
}
