{
 "cells": [
  {
   "cell_type": "markdown",
   "metadata": {},
   "source": [
    "# Creating and Training MLP\n",
    "### Imports and reading"
   ]
  },
  {
   "cell_type": "code",
   "execution_count": 1,
   "metadata": {},
   "outputs": [
    {
     "name": "stdout",
     "output_type": "stream",
     "text": [
      "WARNING:tensorflow:\n",
      "The TensorFlow contrib module will not be included in TensorFlow 2.0.\n",
      "For more information, please see:\n",
      "  * https://github.com/tensorflow/community/blob/master/rfcs/20180907-contrib-sunset.md\n",
      "  * https://github.com/tensorflow/addons\n",
      "  * https://github.com/tensorflow/io (for I/O related ops)\n",
      "If you depend on functionality not listed there, please file an issue.\n",
      "\n"
     ]
    }
   ],
   "source": [
    "import os, math, time\n",
    "import numpy as np\n",
    "import pandas as pd\n",
    "import seaborn as sns\n",
    "import matplotlib as mpl\n",
    "import matplotlib.pyplot as plt\n",
    "\n",
    "from sklearn.preprocessing import MinMaxScaler\n",
    "from sklearn.model_selection import train_test_split\n",
    "\n",
    "import tensorflow as tf\n",
    "from tensorflow import keras\n",
    "from tensorflow.keras.models import load_model\n",
    "from tensorflow.keras.layers import Activation\n",
    "from tensorflow.keras.layers import Flatten\n",
    "from tensorflow.keras.layers import Dropout\n",
    "from tensorflow.keras.layers import Dense\n",
    "from tensorflow.keras.layers import Input\n",
    "from tensorflow.keras.optimizers import Adam\n",
    "from tensorflow.keras.models import Model\n",
    "from tensorflow.keras import metrics\n",
    "\n",
    "import tensorflow.contrib.tensorrt as trt\n",
    "from tensorflow.python.platform import gfile\n",
    "\n",
    "dataset = pd.read_csv('../data/Dataset_refined/latest_complete.csv', sep=',')\n",
    "dataset = dataset.drop(['velocity'], axis=1)\n",
    "X = dataset.iloc[:,0:-1].values\n",
    "y = dataset.iloc[:,-1].values\n",
    "\n",
    "MODEL_NAME = 'mlp-small.h5'\n",
    "\n",
    "os.environ['CUDA_VISIBLE_DEVICES'] = \"0\""
   ]
  },
  {
   "cell_type": "markdown",
   "metadata": {},
   "source": [
    "### Dataset Information"
   ]
  },
  {
   "cell_type": "code",
   "execution_count": 2,
   "metadata": {},
   "outputs": [
    {
     "name": "stdout",
     "output_type": "stream",
     "text": [
      "Training Size:  15661\n",
      "Number of Straight:  7244\n",
      "Number of right turns:  3458\n",
      "Number of left turns:  4959\n",
      "max:  0.4189000129699707\n",
      "median:  -0.04473118111491203\n",
      "min:  -0.4189000129699707\n"
     ]
    },
    {
     "data": {
      "text/html": [
       "<div>\n",
       "<style scoped>\n",
       "    .dataframe tbody tr th:only-of-type {\n",
       "        vertical-align: middle;\n",
       "    }\n",
       "\n",
       "    .dataframe tbody tr th {\n",
       "        vertical-align: top;\n",
       "    }\n",
       "\n",
       "    .dataframe thead th {\n",
       "        text-align: right;\n",
       "    }\n",
       "</style>\n",
       "<table border=\"1\" class=\"dataframe\">\n",
       "  <thead>\n",
       "    <tr style=\"text-align: right;\">\n",
       "      <th></th>\n",
       "      <th>0</th>\n",
       "      <th>1</th>\n",
       "      <th>2</th>\n",
       "      <th>3</th>\n",
       "      <th>4</th>\n",
       "      <th>5</th>\n",
       "      <th>6</th>\n",
       "      <th>7</th>\n",
       "      <th>8</th>\n",
       "      <th>9</th>\n",
       "      <th>...</th>\n",
       "      <th>1072</th>\n",
       "      <th>1073</th>\n",
       "      <th>1074</th>\n",
       "      <th>1075</th>\n",
       "      <th>1076</th>\n",
       "      <th>1077</th>\n",
       "      <th>1078</th>\n",
       "      <th>1079</th>\n",
       "      <th>1080</th>\n",
       "      <th>steering_angle</th>\n",
       "    </tr>\n",
       "  </thead>\n",
       "  <tbody>\n",
       "    <tr>\n",
       "      <th>count</th>\n",
       "      <td>15661.000000</td>\n",
       "      <td>15661.000000</td>\n",
       "      <td>15661.000000</td>\n",
       "      <td>15661.000000</td>\n",
       "      <td>15661.000000</td>\n",
       "      <td>15661.000000</td>\n",
       "      <td>15661.000000</td>\n",
       "      <td>15661.000000</td>\n",
       "      <td>15661.000000</td>\n",
       "      <td>15661.000000</td>\n",
       "      <td>...</td>\n",
       "      <td>15661.000000</td>\n",
       "      <td>15661.000000</td>\n",
       "      <td>15661.000000</td>\n",
       "      <td>15661.000000</td>\n",
       "      <td>15661.000000</td>\n",
       "      <td>15661.000000</td>\n",
       "      <td>15661.000000</td>\n",
       "      <td>15661.000000</td>\n",
       "      <td>15661.000000</td>\n",
       "      <td>15661.000000</td>\n",
       "    </tr>\n",
       "    <tr>\n",
       "      <th>mean</th>\n",
       "      <td>1.546074</td>\n",
       "      <td>1.532822</td>\n",
       "      <td>1.519684</td>\n",
       "      <td>1.508848</td>\n",
       "      <td>1.497069</td>\n",
       "      <td>1.484899</td>\n",
       "      <td>1.473679</td>\n",
       "      <td>1.463179</td>\n",
       "      <td>1.452031</td>\n",
       "      <td>1.442898</td>\n",
       "      <td>...</td>\n",
       "      <td>2.053130</td>\n",
       "      <td>2.069219</td>\n",
       "      <td>2.107226</td>\n",
       "      <td>2.114062</td>\n",
       "      <td>2.149911</td>\n",
       "      <td>2.198493</td>\n",
       "      <td>2.174829</td>\n",
       "      <td>2.215040</td>\n",
       "      <td>2.220438</td>\n",
       "      <td>-0.026104</td>\n",
       "    </tr>\n",
       "    <tr>\n",
       "      <th>std</th>\n",
       "      <td>1.057151</td>\n",
       "      <td>1.040667</td>\n",
       "      <td>1.025918</td>\n",
       "      <td>1.018475</td>\n",
       "      <td>1.009149</td>\n",
       "      <td>0.999480</td>\n",
       "      <td>0.989791</td>\n",
       "      <td>0.982666</td>\n",
       "      <td>0.976010</td>\n",
       "      <td>0.970981</td>\n",
       "      <td>...</td>\n",
       "      <td>6.127650</td>\n",
       "      <td>6.169612</td>\n",
       "      <td>6.313436</td>\n",
       "      <td>6.293725</td>\n",
       "      <td>6.434450</td>\n",
       "      <td>6.630021</td>\n",
       "      <td>6.454853</td>\n",
       "      <td>6.610371</td>\n",
       "      <td>6.589992</td>\n",
       "      <td>0.233896</td>\n",
       "    </tr>\n",
       "    <tr>\n",
       "      <th>min</th>\n",
       "      <td>0.295000</td>\n",
       "      <td>0.297000</td>\n",
       "      <td>0.295000</td>\n",
       "      <td>0.287000</td>\n",
       "      <td>0.286000</td>\n",
       "      <td>0.285000</td>\n",
       "      <td>0.285000</td>\n",
       "      <td>0.282000</td>\n",
       "      <td>0.280000</td>\n",
       "      <td>0.282000</td>\n",
       "      <td>...</td>\n",
       "      <td>0.416000</td>\n",
       "      <td>0.422000</td>\n",
       "      <td>0.425000</td>\n",
       "      <td>0.425000</td>\n",
       "      <td>0.427000</td>\n",
       "      <td>0.435000</td>\n",
       "      <td>0.442000</td>\n",
       "      <td>0.444000</td>\n",
       "      <td>0.442000</td>\n",
       "      <td>-0.418900</td>\n",
       "    </tr>\n",
       "    <tr>\n",
       "      <th>25%</th>\n",
       "      <td>0.959000</td>\n",
       "      <td>0.956000</td>\n",
       "      <td>0.951000</td>\n",
       "      <td>0.947000</td>\n",
       "      <td>0.942000</td>\n",
       "      <td>0.938000</td>\n",
       "      <td>0.934000</td>\n",
       "      <td>0.930000</td>\n",
       "      <td>0.926000</td>\n",
       "      <td>0.922000</td>\n",
       "      <td>...</td>\n",
       "      <td>0.944000</td>\n",
       "      <td>0.951000</td>\n",
       "      <td>0.957000</td>\n",
       "      <td>0.964000</td>\n",
       "      <td>0.969000</td>\n",
       "      <td>0.978000</td>\n",
       "      <td>0.985000</td>\n",
       "      <td>0.992000</td>\n",
       "      <td>1.000000</td>\n",
       "      <td>-0.134009</td>\n",
       "    </tr>\n",
       "    <tr>\n",
       "      <th>50%</th>\n",
       "      <td>1.250000</td>\n",
       "      <td>1.244000</td>\n",
       "      <td>1.237000</td>\n",
       "      <td>1.230000</td>\n",
       "      <td>1.221000</td>\n",
       "      <td>1.212000</td>\n",
       "      <td>1.202000</td>\n",
       "      <td>1.197000</td>\n",
       "      <td>1.190000</td>\n",
       "      <td>1.184000</td>\n",
       "      <td>...</td>\n",
       "      <td>1.232000</td>\n",
       "      <td>1.237000</td>\n",
       "      <td>1.243000</td>\n",
       "      <td>1.249000</td>\n",
       "      <td>1.254000</td>\n",
       "      <td>1.260000</td>\n",
       "      <td>1.265000</td>\n",
       "      <td>1.271000</td>\n",
       "      <td>1.279000</td>\n",
       "      <td>-0.044731</td>\n",
       "    </tr>\n",
       "    <tr>\n",
       "      <th>75%</th>\n",
       "      <td>1.618000</td>\n",
       "      <td>1.608000</td>\n",
       "      <td>1.597000</td>\n",
       "      <td>1.588000</td>\n",
       "      <td>1.576000</td>\n",
       "      <td>1.566000</td>\n",
       "      <td>1.557000</td>\n",
       "      <td>1.548000</td>\n",
       "      <td>1.539000</td>\n",
       "      <td>1.531000</td>\n",
       "      <td>...</td>\n",
       "      <td>1.636000</td>\n",
       "      <td>1.644000</td>\n",
       "      <td>1.656000</td>\n",
       "      <td>1.666000</td>\n",
       "      <td>1.675000</td>\n",
       "      <td>1.685000</td>\n",
       "      <td>1.694000</td>\n",
       "      <td>1.705000</td>\n",
       "      <td>1.716000</td>\n",
       "      <td>0.070258</td>\n",
       "    </tr>\n",
       "    <tr>\n",
       "      <th>max</th>\n",
       "      <td>8.040000</td>\n",
       "      <td>8.080000</td>\n",
       "      <td>8.132000</td>\n",
       "      <td>8.177000</td>\n",
       "      <td>8.177000</td>\n",
       "      <td>8.085000</td>\n",
       "      <td>8.122000</td>\n",
       "      <td>8.141000</td>\n",
       "      <td>8.191000</td>\n",
       "      <td>8.186000</td>\n",
       "      <td>...</td>\n",
       "      <td>65.532997</td>\n",
       "      <td>65.532997</td>\n",
       "      <td>65.532997</td>\n",
       "      <td>65.532997</td>\n",
       "      <td>65.532997</td>\n",
       "      <td>65.532997</td>\n",
       "      <td>65.532997</td>\n",
       "      <td>65.532997</td>\n",
       "      <td>65.532997</td>\n",
       "      <td>0.418900</td>\n",
       "    </tr>\n",
       "  </tbody>\n",
       "</table>\n",
       "<p>8 rows × 1082 columns</p>\n",
       "</div>"
      ],
      "text/plain": [
       "                  0             1             2             3             4  \\\n",
       "count  15661.000000  15661.000000  15661.000000  15661.000000  15661.000000   \n",
       "mean       1.546074      1.532822      1.519684      1.508848      1.497069   \n",
       "std        1.057151      1.040667      1.025918      1.018475      1.009149   \n",
       "min        0.295000      0.297000      0.295000      0.287000      0.286000   \n",
       "25%        0.959000      0.956000      0.951000      0.947000      0.942000   \n",
       "50%        1.250000      1.244000      1.237000      1.230000      1.221000   \n",
       "75%        1.618000      1.608000      1.597000      1.588000      1.576000   \n",
       "max        8.040000      8.080000      8.132000      8.177000      8.177000   \n",
       "\n",
       "                  5             6             7             8             9  \\\n",
       "count  15661.000000  15661.000000  15661.000000  15661.000000  15661.000000   \n",
       "mean       1.484899      1.473679      1.463179      1.452031      1.442898   \n",
       "std        0.999480      0.989791      0.982666      0.976010      0.970981   \n",
       "min        0.285000      0.285000      0.282000      0.280000      0.282000   \n",
       "25%        0.938000      0.934000      0.930000      0.926000      0.922000   \n",
       "50%        1.212000      1.202000      1.197000      1.190000      1.184000   \n",
       "75%        1.566000      1.557000      1.548000      1.539000      1.531000   \n",
       "max        8.085000      8.122000      8.141000      8.191000      8.186000   \n",
       "\n",
       "       ...          1072          1073          1074          1075  \\\n",
       "count  ...  15661.000000  15661.000000  15661.000000  15661.000000   \n",
       "mean   ...      2.053130      2.069219      2.107226      2.114062   \n",
       "std    ...      6.127650      6.169612      6.313436      6.293725   \n",
       "min    ...      0.416000      0.422000      0.425000      0.425000   \n",
       "25%    ...      0.944000      0.951000      0.957000      0.964000   \n",
       "50%    ...      1.232000      1.237000      1.243000      1.249000   \n",
       "75%    ...      1.636000      1.644000      1.656000      1.666000   \n",
       "max    ...     65.532997     65.532997     65.532997     65.532997   \n",
       "\n",
       "               1076          1077          1078          1079          1080  \\\n",
       "count  15661.000000  15661.000000  15661.000000  15661.000000  15661.000000   \n",
       "mean       2.149911      2.198493      2.174829      2.215040      2.220438   \n",
       "std        6.434450      6.630021      6.454853      6.610371      6.589992   \n",
       "min        0.427000      0.435000      0.442000      0.444000      0.442000   \n",
       "25%        0.969000      0.978000      0.985000      0.992000      1.000000   \n",
       "50%        1.254000      1.260000      1.265000      1.271000      1.279000   \n",
       "75%        1.675000      1.685000      1.694000      1.705000      1.716000   \n",
       "max       65.532997     65.532997     65.532997     65.532997     65.532997   \n",
       "\n",
       "       steering_angle  \n",
       "count    15661.000000  \n",
       "mean        -0.026104  \n",
       "std          0.233896  \n",
       "min         -0.418900  \n",
       "25%         -0.134009  \n",
       "50%         -0.044731  \n",
       "75%          0.070258  \n",
       "max          0.418900  \n",
       "\n",
       "[8 rows x 1082 columns]"
      ]
     },
     "execution_count": 2,
     "metadata": {},
     "output_type": "execute_result"
    }
   ],
   "source": [
    "right_turns = y[np.where(y > 0.1)]\n",
    "left_turns = y[np.where(y < -0.1)]\n",
    "straight = y[np.where(abs(y) < 0.1)]\n",
    "print(\"Training Size: \", y.shape[0])\n",
    "print(\"Number of Straight: \", straight.shape[0])\n",
    "print(\"Number of right turns: \", right_turns.shape[0])\n",
    "print(\"Number of left turns: \", left_turns.shape[0])\n",
    "print(\"max: \", np.amax(y))\n",
    "print(\"median: \", np.median(y))\n",
    "print(\"min: \", np.amin(y))\n",
    "dataset.describe()"
   ]
  },
  {
   "cell_type": "code",
   "execution_count": 3,
   "metadata": {},
   "outputs": [
    {
     "data": {
      "image/png": "[encoded data removed]",
      "text/plain": [
       "<Figure size 720x432 with 1 Axes>"
      ]
     },
     "metadata": {
      "needs_background": "light"
     },
     "output_type": "display_data"
    }
   ],
   "source": [
    "fig = plt.figure(figsize=(10,6))\n",
    "sns.distplot(y, bins=10, hist=True, kde_kws={\"shade\": True}, color='#67B7D1')# green - #3cb44b, blue - #67B7D1\n",
    "plt.title('Steering angle distribution', loc='center')\n",
    "plt.show()"
   ]
  },
  {
   "cell_type": "code",
   "execution_count": 4,
   "metadata": {},
   "outputs": [
    {
     "data": {
      "image/png": "[encoded data removed]",
      "text/plain": [
       "<Figure size 1152x720 with 2 Axes>"
      ]
     },
     "metadata": {
      "needs_background": "light"
     },
     "output_type": "display_data"
    },
    {
     "name": "stdout",
     "output_type": "stream",
     "text": [
      "Output:  -0.108561709523201\n"
     ]
    }
   ],
   "source": [
    "angle_inc = math.radians(0.25)\n",
    "angle_start = -math.radians(45)\n",
    "\n",
    "SEQ_IDX = 500\n",
    "data_plot = X[SEQ_IDX]\n",
    "\n",
    "x_ = []\n",
    "y_ = []\n",
    "\n",
    "for i in range(len(data_plot)):\n",
    "    angle = angle_start + i * angle_inc\n",
    "    x_.append(data_plot[i]*math.cos(angle))\n",
    "    y_.append(data_plot[i]*math.sin(angle))\n",
    "\n",
    "norm = mpl.colors.Normalize(vmin=np.amin(data_plot), vmax=np.amax(data_plot))\n",
    "\n",
    "fig = plt.figure(figsize=(16,10))\n",
    "plt.scatter(x_,y_, c=(data_plot), cmap='viridis', marker='o', alpha=0.5, label='Lidar measurements')\n",
    "plt.scatter(x=0, y=0,s=100, c='r', marker=\"x\", label='Vehicle')\n",
    "plt.axis(aspect='equal')\n",
    "\n",
    "plt.colorbar(mpl.cm.ScalarMappable(norm=norm), label='Distance in meter')\n",
    "plt.legend(labelspacing=1,frameon=False)\n",
    "plt.show()\n",
    "print(\"Output: \", y[SEQ_IDX])"
   ]
  },
  {
   "cell_type": "markdown",
   "metadata": {},
   "source": [
    "### Normalize"
   ]
  },
  {
   "cell_type": "code",
   "execution_count": 5,
   "metadata": {},
   "outputs": [],
   "source": [
    "scaler = MinMaxScaler()\n",
    "scaler.fit(X)\n",
    "X = scaler.transform(X)"
   ]
  },
  {
   "cell_type": "markdown",
   "metadata": {},
   "source": [
    "### Create Keras Model"
   ]
  },
  {
   "cell_type": "code",
   "execution_count": 6,
   "metadata": {},
   "outputs": [
    {
     "name": "stdout",
     "output_type": "stream",
     "text": [
      "WARNING:tensorflow:From /Users/jj/Dokument/Anaconda/anaconda3/envs/deep-learning/lib/python3.6/site-packages/tensorflow_core/python/ops/resource_variable_ops.py:1630: calling BaseResourceVariable.__init__ (from tensorflow.python.ops.resource_variable_ops) with constraint is deprecated and will be removed in a future version.\n",
      "Instructions for updating:\n",
      "If using Keras pass *_constraint arguments to layers.\n",
      "Model: \"model\"\n",
      "_________________________________________________________________\n",
      "Layer (type)                 Output Shape              Param #   \n",
      "=================================================================\n",
      "input_layer (InputLayer)     [(None, 360)]             0         \n",
      "_________________________________________________________________\n",
      "dense_layer_1 (Dense)        (None, 32)                11552     \n",
      "_________________________________________________________________\n",
      "activation (Activation)      (None, 32)                0         \n",
      "_________________________________________________________________\n",
      "dense_layer_2 (Dense)        (None, 64)                2112      \n",
      "_________________________________________________________________\n",
      "activation_1 (Activation)    (None, 64)                0         \n",
      "_________________________________________________________________\n",
      "dense_layer_3 (Dense)        (None, 32)                2080      \n",
      "_________________________________________________________________\n",
      "activation_2 (Activation)    (None, 32)                0         \n",
      "_________________________________________________________________\n",
      "output_layer (Dense)         (None, 1)                 33        \n",
      "=================================================================\n",
      "Total params: 15,777\n",
      "Trainable params: 15,777\n",
      "Non-trainable params: 0\n",
      "_________________________________________________________________\n"
     ]
    }
   ],
   "source": [
    "inputs = Input(shape=(360,), name=\"input_layer\")\n",
    "\n",
    "dense1 = Dense(32, name=\"dense_layer_1\")(inputs)\n",
    "dense1 = Activation(\"relu\")(dense1)\n",
    "\n",
    "dense2 = Dense(64, name=\"dense_layer_2\")(dense1)\n",
    "dense2 = Activation(\"relu\")(dense2)\n",
    "\n",
    "dense3 = Dense(32, name=\"dense_layer_3\")(dense2)\n",
    "dense3 = Activation(\"relu\")(dense3)\n",
    "\n",
    "final = Dense(1, name=\"output_layer\")(dense3)\n",
    "\n",
    "model = Model(inputs=inputs, outputs=final)\n",
    "\n",
    "model.compile(loss='mean_squared_error',\n",
    "              optimizer= Adam(), metrics=[metrics.mae])\n",
    "\n",
    "model.summary()"
   ]
  },
  {
   "cell_type": "markdown",
   "metadata": {},
   "source": [
    "### Preprocess input\n",
    "##### Make the input smaller, limit the view and use every other measurement"
   ]
  },
  {
   "cell_type": "code",
   "execution_count": 7,
   "metadata": {},
   "outputs": [],
   "source": [
    "#preproccess 45 degrees = 180 iter\n",
    "def preprocess(lidar):\n",
    "    new_list = []\n",
    "    for i in range (180, 900):\n",
    "        if(i % 2 == 0):\n",
    "            new_list.append(lidar[i])\n",
    "    return np.array(new_list)\n",
    "    "
   ]
  },
  {
   "cell_type": "code",
   "execution_count": 8,
   "metadata": {},
   "outputs": [
    {
     "name": "stdout",
     "output_type": "stream",
     "text": [
      "15661\n",
      "(15661, 360)\n"
     ]
    }
   ],
   "source": [
    "processed_data = []\n",
    "\n",
    "for x in X:\n",
    "    processed_data.append(preprocess(x))\n",
    "\n",
    "processed_data = np.array(processed_data)\n",
    "x_t, x_v, y_t, y_v = train_test_split(processed_data, y, test_size=0.15, random_state=0)"
   ]
  },
  {
   "cell_type": "markdown",
   "metadata": {},
   "source": [
    "## Train Model"
   ]
  },
  {
   "cell_type": "code",
   "execution_count": 9,
   "metadata": {},
   "outputs": [
    {
     "name": "stdout",
     "output_type": "stream",
     "text": [
      "Train on 12528 samples, validate on 3133 samples\n",
      "Epoch 1/30\n",
      "12528/12528 [==============================] - 3s 210us/sample - loss: 0.0155 - mean_absolute_error: 0.0870 - val_loss: 0.0104 - val_mean_absolute_error: 0.0711\n",
      "Epoch 2/30\n",
      "12528/12528 [==============================] - 2s 132us/sample - loss: 0.0112 - mean_absolute_error: 0.0731 - val_loss: 0.0103 - val_mean_absolute_error: 0.0722\n",
      "Epoch 3/30\n",
      "12528/12528 [==============================] - 2s 142us/sample - loss: 0.0103 - mean_absolute_error: 0.0694 - val_loss: 0.0101 - val_mean_absolute_error: 0.0696\n",
      "Epoch 4/30\n",
      "12528/12528 [==============================] - 2s 145us/sample - loss: 0.0102 - mean_absolute_error: 0.0688 - val_loss: 0.0104 - val_mean_absolute_error: 0.0743\n",
      "Epoch 5/30\n",
      "12528/12528 [==============================] - 2s 150us/sample - loss: 0.0092 - mean_absolute_error: 0.0644 - val_loss: 0.0087 - val_mean_absolute_error: 0.0621\n",
      "Epoch 6/30\n",
      "12528/12528 [==============================] - 2s 174us/sample - loss: 0.0089 - mean_absolute_error: 0.0629 - val_loss: 0.0079 - val_mean_absolute_error: 0.0614\n",
      "Epoch 7/30\n",
      "12528/12528 [==============================] - 2s 147us/sample - loss: 0.0087 - mean_absolute_error: 0.0624 - val_loss: 0.0091 - val_mean_absolute_error: 0.0651\n",
      "Epoch 8/30\n",
      "12528/12528 [==============================] - 2s 137us/sample - loss: 0.0081 - mean_absolute_error: 0.0605 - val_loss: 0.0072 - val_mean_absolute_error: 0.0554\n",
      "Epoch 9/30\n",
      "12528/12528 [==============================] - 2s 145us/sample - loss: 0.0081 - mean_absolute_error: 0.0600 - val_loss: 0.0071 - val_mean_absolute_error: 0.0555\n",
      "Epoch 10/30\n",
      "12528/12528 [==============================] - 2s 139us/sample - loss: 0.0076 - mean_absolute_error: 0.0577 - val_loss: 0.0072 - val_mean_absolute_error: 0.0583\n",
      "Epoch 11/30\n",
      "12528/12528 [==============================] - 2s 149us/sample - loss: 0.0076 - mean_absolute_error: 0.0579 - val_loss: 0.0072 - val_mean_absolute_error: 0.0566\n",
      "Epoch 12/30\n",
      "12528/12528 [==============================] - 2s 156us/sample - loss: 0.0071 - mean_absolute_error: 0.0552 - val_loss: 0.0068 - val_mean_absolute_error: 0.0557\n",
      "Epoch 13/30\n",
      "12528/12528 [==============================] - 2s 150us/sample - loss: 0.0070 - mean_absolute_error: 0.0552 - val_loss: 0.0061 - val_mean_absolute_error: 0.0520\n",
      "Epoch 14/30\n",
      "12528/12528 [==============================] - 2s 153us/sample - loss: 0.0066 - mean_absolute_error: 0.0535 - val_loss: 0.0069 - val_mean_absolute_error: 0.0577\n",
      "Epoch 15/30\n",
      "12528/12528 [==============================] - 2s 141us/sample - loss: 0.0064 - mean_absolute_error: 0.0527 - val_loss: 0.0065 - val_mean_absolute_error: 0.0526\n",
      "Epoch 16/30\n",
      "12528/12528 [==============================] - 2s 142us/sample - loss: 0.0065 - mean_absolute_error: 0.0531 - val_loss: 0.0076 - val_mean_absolute_error: 0.0580\n",
      "Epoch 17/30\n",
      "12528/12528 [==============================] - 2s 166us/sample - loss: 0.0063 - mean_absolute_error: 0.0521 - val_loss: 0.0056 - val_mean_absolute_error: 0.0474\n",
      "Epoch 18/30\n",
      "12528/12528 [==============================] - 2s 149us/sample - loss: 0.0062 - mean_absolute_error: 0.0521 - val_loss: 0.0060 - val_mean_absolute_error: 0.0522\n",
      "Epoch 19/30\n",
      "12528/12528 [==============================] - 2s 143us/sample - loss: 0.0059 - mean_absolute_error: 0.0494 - val_loss: 0.0070 - val_mean_absolute_error: 0.0528\n",
      "Epoch 20/30\n",
      "12528/12528 [==============================] - 2s 145us/sample - loss: 0.0058 - mean_absolute_error: 0.0496 - val_loss: 0.0065 - val_mean_absolute_error: 0.0569\n",
      "Epoch 21/30\n",
      "12528/12528 [==============================] - 2s 164us/sample - loss: 0.0057 - mean_absolute_error: 0.0491 - val_loss: 0.0064 - val_mean_absolute_error: 0.0534\n",
      "Epoch 22/30\n",
      "12528/12528 [==============================] - 2s 170us/sample - loss: 0.0056 - mean_absolute_error: 0.0489 - val_loss: 0.0058 - val_mean_absolute_error: 0.0503\n",
      "Epoch 23/30\n",
      "12528/12528 [==============================] - 2s 156us/sample - loss: 0.0055 - mean_absolute_error: 0.0480 - val_loss: 0.0055 - val_mean_absolute_error: 0.0477\n",
      "Epoch 24/30\n",
      "12528/12528 [==============================] - 2s 148us/sample - loss: 0.0054 - mean_absolute_error: 0.0475 - val_loss: 0.0059 - val_mean_absolute_error: 0.0489\n",
      "Epoch 25/30\n",
      "12528/12528 [==============================] - 2s 150us/sample - loss: 0.0055 - mean_absolute_error: 0.0480 - val_loss: 0.0051 - val_mean_absolute_error: 0.0467\n",
      "Epoch 26/30\n",
      "12528/12528 [==============================] - 2s 160us/sample - loss: 0.0051 - mean_absolute_error: 0.0462 - val_loss: 0.0057 - val_mean_absolute_error: 0.0492\n",
      "Epoch 27/30\n",
      "12528/12528 [==============================] - 2s 145us/sample - loss: 0.0049 - mean_absolute_error: 0.0453 - val_loss: 0.0055 - val_mean_absolute_error: 0.0501\n",
      "Epoch 28/30\n",
      "12528/12528 [==============================] - 2s 144us/sample - loss: 0.0049 - mean_absolute_error: 0.0452 - val_loss: 0.0052 - val_mean_absolute_error: 0.0469\n",
      "Epoch 29/30\n",
      "12528/12528 [==============================] - 2s 145us/sample - loss: 0.0049 - mean_absolute_error: 0.0450 - val_loss: 0.0067 - val_mean_absolute_error: 0.0578\n",
      "Epoch 30/30\n",
      "12528/12528 [==============================] - 2s 144us/sample - loss: 0.0048 - mean_absolute_error: 0.0450 - val_loss: 0.0049 - val_mean_absolute_error: 0.0452\n"
     ]
    }
   ],
   "source": [
    "BATCH_SIZE = 24 \n",
    "EPOCHS = 30\n",
    "\n",
    "history = model.fit(x_t,y_t,\n",
    "                    verbose=1,\n",
    "                    epochs= EPOCHS,\n",
    "                    validation_data=(x_v,y_v))"
   ]
  },
  {
   "cell_type": "markdown",
   "metadata": {},
   "source": [
    "### Save Keras Model"
   ]
  },
  {
   "cell_type": "code",
   "execution_count": 10,
   "metadata": {},
   "outputs": [],
   "source": [
    "model.save(MODEL_NAME)"
   ]
  },
  {
   "cell_type": "markdown",
   "metadata": {},
   "source": [
    "## Load Keras Model and Export to Tensorflow model"
   ]
  },
  {
   "cell_type": "code",
   "execution_count": 11,
   "metadata": {},
   "outputs": [],
   "source": [
    "tf.keras.backend.set_learning_phase(0) \n",
    "\n",
    "MODEL_PATH = \"./model/mlp-tf-small\"\n",
    "\n",
    "model = load_model('./model/mlp-small.h5')\n",
    "\n",
    "saver = tf.train.Saver()\n",
    "sess = tf.keras.backend.get_session()\n",
    "save_path = saver.save(sess, MODEL_PATH)"
   ]
  },
  {
   "cell_type": "code",
   "execution_count": 12,
   "metadata": {},
   "outputs": [
    {
     "name": "stdout",
     "output_type": "stream",
     "text": [
      "INFO:tensorflow:Restoring parameters from ./model/mlp-tf-small\n",
      "WARNING:tensorflow:From <ipython-input-12-98daedabfa31>:12: convert_variables_to_constants (from tensorflow.python.framework.graph_util_impl) is deprecated and will be removed in a future version.\n",
      "Instructions for updating:\n",
      "Use `tf.compat.v1.graph_util.convert_variables_to_constants`\n",
      "WARNING:tensorflow:From /Users/jj/Dokument/Anaconda/anaconda3/envs/deep-learning/lib/python3.6/site-packages/tensorflow_core/python/framework/graph_util_impl.py:277: extract_sub_graph (from tensorflow.python.framework.graph_util_impl) is deprecated and will be removed in a future version.\n",
      "Instructions for updating:\n",
      "Use `tf.compat.v1.graph_util.extract_sub_graph`\n",
      "INFO:tensorflow:Froze 8 variables.\n",
      "INFO:tensorflow:Converted 8 variables to const ops.\n",
      "WARNING:tensorflow:From <ipython-input-12-98daedabfa31>:14: FastGFile.__init__ (from tensorflow.python.platform.gfile) is deprecated and will be removed in a future version.\n",
      "Instructions for updating:\n",
      "Use tf.gfile.GFile.\n"
     ]
    }
   ],
   "source": [
    "#tf to TFRT\n",
    "with tf.Session(config=tf.ConfigProto(gpu_options=tf.GPUOptions(per_process_gpu_memory_fraction=0.50))) as sess:\n",
    "    saver = tf.train.import_meta_graph(\"./model/mlp-tf-small.meta\")\n",
    "    saver.restore(sess, \"./model/mlp-tf-small\")\n",
    "    \n",
    "    output_nodes = [\"dense_3/BiasAdd\"] #output layer\n",
    "    \n",
    "    # convert to frozen model\n",
    "    frozen_graph = tf.compat.v1.graph_util.convert_variables_to_constants(\n",
    "        sess, \n",
    "        tf.get_default_graph().as_graph_def(),\n",
    "        output_node_names=output_nodes)\n",
    "    \n",
    "    with gfile.FastGFile(\"./model/frozen_model.pb\", 'wb') as f:\n",
    "        f.write(frozen_graph.SerializeToString())"
   ]
  },
  {
   "cell_type": "code",
   "execution_count": 13,
   "metadata": {},
   "outputs": [
    {
     "name": "stdout",
     "output_type": "stream",
     "text": [
      "INFO:tensorflow:Linked TensorRT version: (0, 0, 0)\n",
      "INFO:tensorflow:Loaded TensorRT version: (0, 0, 0)\n",
      "INFO:tensorflow:Running against TensorRT version 0.0.0\n"
     ]
    }
   ],
   "source": [
    "trt_graph = trt.create_inference_graph(\n",
    "    input_graph_def=frozen_graph,\n",
    "    outputs=output_nodes,\n",
    "    max_batch_size=2,# specify your max batch size\n",
    "    max_workspace_size_bytes=2*(10**9),# specify the max workspace\n",
    "    precision_mode=\"FP32\") # precision, can be \"FP32\" (32 floating point precision) or \"FP16\"\n",
    "\n",
    "with gfile.FastGFile(\"./model/TensorRT_model.pb\", 'wb') as f:\n",
    "    f.write(trt_graph.SerializeToString())"
   ]
  },
  {
   "cell_type": "code",
   "execution_count": 14,
   "metadata": {},
   "outputs": [
    {
     "name": "stdout",
     "output_type": "stream",
     "text": [
      "numb. of all_nodes in frozen graph: 28\n",
      "numb. of trt_engine_nodes in TensorRT graph: 0\n",
      "numb. of all_nodes in TensorRT graph: 20\n"
     ]
    }
   ],
   "source": [
    "# check how many ops of the original frozen model\n",
    "all_nodes = len([1 for n in frozen_graph.node])\n",
    "print(\"numb. of all_nodes in frozen graph:\", all_nodes)\n",
    "\n",
    "# check how many ops that is converted to TensorRT engine\n",
    "trt_engine_nodes = len([1 for n in trt_graph.node if str(n.op) == 'TRTEngineOp'])\n",
    "print(\"numb. of trt_engine_nodes in TensorRT graph:\", trt_engine_nodes)\n",
    "all_nodes = len([1 for n in trt_graph.node])\n",
    "print(\"numb. of all_nodes in TensorRT graph:\", all_nodes)"
   ]
  },
  {
   "cell_type": "markdown",
   "metadata": {},
   "source": [
    "## Prediction"
   ]
  },
  {
   "cell_type": "code",
   "execution_count": 15,
   "metadata": {},
   "outputs": [],
   "source": [
    "def read_pb_graph(model):\n",
    "    with gfile.FastGFile(model,'rb') as f:\n",
    "        graph_def = tf.GraphDef()\n",
    "        graph_def.ParseFromString(f.read())\n",
    "    return graph_def"
   ]
  },
  {
   "cell_type": "code",
   "execution_count": 17,
   "metadata": {},
   "outputs": [
    {
     "ename": "KeyError",
     "evalue": "\"The name 'input_layer_1:0' refers to a Tensor which does not exist. The operation, 'input_layer_1', does not exist in the graph.\"",
     "output_type": "error",
     "traceback": [
      "\u001b[0;31m---------------------------------------------------------------------------\u001b[0m",
      "\u001b[0;31mKeyError\u001b[0m                                  Traceback (most recent call last)",
      "\u001b[0;32m<ipython-input-17-e43b30be5eee>\u001b[0m in \u001b[0;36m<module>\u001b[0;34m\u001b[0m\n\u001b[1;32m     18\u001b[0m         \u001b[0;31m# obtain the corresponding input-output tensor\u001b[0m\u001b[0;34m\u001b[0m\u001b[0;34m\u001b[0m\u001b[0;34m\u001b[0m\u001b[0m\n\u001b[1;32m     19\u001b[0m         \u001b[0mtf\u001b[0m\u001b[0;34m.\u001b[0m\u001b[0mimport_graph_def\u001b[0m\u001b[0;34m(\u001b[0m\u001b[0mtrt_graph\u001b[0m\u001b[0;34m,\u001b[0m \u001b[0mname\u001b[0m\u001b[0;34m=\u001b[0m\u001b[0;34m''\u001b[0m\u001b[0;34m)\u001b[0m\u001b[0;34m\u001b[0m\u001b[0;34m\u001b[0m\u001b[0m\n\u001b[0;32m---> 20\u001b[0;31m         \u001b[0minput\u001b[0m \u001b[0;34m=\u001b[0m \u001b[0msess\u001b[0m\u001b[0;34m.\u001b[0m\u001b[0mgraph\u001b[0m\u001b[0;34m.\u001b[0m\u001b[0mget_tensor_by_name\u001b[0m\u001b[0;34m(\u001b[0m\u001b[0;34m'input_layer_1:0'\u001b[0m\u001b[0;34m)\u001b[0m\u001b[0;34m\u001b[0m\u001b[0;34m\u001b[0m\u001b[0m\n\u001b[0m\u001b[1;32m     21\u001b[0m         \u001b[0moutput\u001b[0m \u001b[0;34m=\u001b[0m \u001b[0msess\u001b[0m\u001b[0;34m.\u001b[0m\u001b[0mgraph\u001b[0m\u001b[0;34m.\u001b[0m\u001b[0mget_tensor_by_name\u001b[0m\u001b[0;34m(\u001b[0m\u001b[0;34m'output_layer:0'\u001b[0m\u001b[0;34m)\u001b[0m\u001b[0;34m\u001b[0m\u001b[0;34m\u001b[0m\u001b[0m\n\u001b[1;32m     22\u001b[0m \u001b[0;34m\u001b[0m\u001b[0m\n",
      "\u001b[0;32m~/Dokument/Anaconda/anaconda3/envs/deep-learning/lib/python3.6/site-packages/tensorflow_core/python/framework/ops.py\u001b[0m in \u001b[0;36mget_tensor_by_name\u001b[0;34m(self, name)\u001b[0m\n\u001b[1;32m   3781\u001b[0m       raise TypeError(\"Tensor names are strings (or similar), not %s.\" %\n\u001b[1;32m   3782\u001b[0m                       type(name).__name__)\n\u001b[0;32m-> 3783\u001b[0;31m     \u001b[0;32mreturn\u001b[0m \u001b[0mself\u001b[0m\u001b[0;34m.\u001b[0m\u001b[0mas_graph_element\u001b[0m\u001b[0;34m(\u001b[0m\u001b[0mname\u001b[0m\u001b[0;34m,\u001b[0m \u001b[0mallow_tensor\u001b[0m\u001b[0;34m=\u001b[0m\u001b[0;32mTrue\u001b[0m\u001b[0;34m,\u001b[0m \u001b[0mallow_operation\u001b[0m\u001b[0;34m=\u001b[0m\u001b[0;32mFalse\u001b[0m\u001b[0;34m)\u001b[0m\u001b[0;34m\u001b[0m\u001b[0;34m\u001b[0m\u001b[0m\n\u001b[0m\u001b[1;32m   3784\u001b[0m \u001b[0;34m\u001b[0m\u001b[0m\n\u001b[1;32m   3785\u001b[0m   \u001b[0;32mdef\u001b[0m \u001b[0m_get_tensor_by_tf_output\u001b[0m\u001b[0;34m(\u001b[0m\u001b[0mself\u001b[0m\u001b[0;34m,\u001b[0m \u001b[0mtf_output\u001b[0m\u001b[0;34m)\u001b[0m\u001b[0;34m:\u001b[0m\u001b[0;34m\u001b[0m\u001b[0;34m\u001b[0m\u001b[0m\n",
      "\u001b[0;32m~/Dokument/Anaconda/anaconda3/envs/deep-learning/lib/python3.6/site-packages/tensorflow_core/python/framework/ops.py\u001b[0m in \u001b[0;36mas_graph_element\u001b[0;34m(self, obj, allow_tensor, allow_operation)\u001b[0m\n\u001b[1;32m   3605\u001b[0m \u001b[0;34m\u001b[0m\u001b[0m\n\u001b[1;32m   3606\u001b[0m     \u001b[0;32mwith\u001b[0m \u001b[0mself\u001b[0m\u001b[0;34m.\u001b[0m\u001b[0m_lock\u001b[0m\u001b[0;34m:\u001b[0m\u001b[0;34m\u001b[0m\u001b[0;34m\u001b[0m\u001b[0m\n\u001b[0;32m-> 3607\u001b[0;31m       \u001b[0;32mreturn\u001b[0m \u001b[0mself\u001b[0m\u001b[0;34m.\u001b[0m\u001b[0m_as_graph_element_locked\u001b[0m\u001b[0;34m(\u001b[0m\u001b[0mobj\u001b[0m\u001b[0;34m,\u001b[0m \u001b[0mallow_tensor\u001b[0m\u001b[0;34m,\u001b[0m \u001b[0mallow_operation\u001b[0m\u001b[0;34m)\u001b[0m\u001b[0;34m\u001b[0m\u001b[0;34m\u001b[0m\u001b[0m\n\u001b[0m\u001b[1;32m   3608\u001b[0m \u001b[0;34m\u001b[0m\u001b[0m\n\u001b[1;32m   3609\u001b[0m   \u001b[0;32mdef\u001b[0m \u001b[0m_as_graph_element_locked\u001b[0m\u001b[0;34m(\u001b[0m\u001b[0mself\u001b[0m\u001b[0;34m,\u001b[0m \u001b[0mobj\u001b[0m\u001b[0;34m,\u001b[0m \u001b[0mallow_tensor\u001b[0m\u001b[0;34m,\u001b[0m \u001b[0mallow_operation\u001b[0m\u001b[0;34m)\u001b[0m\u001b[0;34m:\u001b[0m\u001b[0;34m\u001b[0m\u001b[0;34m\u001b[0m\u001b[0m\n",
      "\u001b[0;32m~/Dokument/Anaconda/anaconda3/envs/deep-learning/lib/python3.6/site-packages/tensorflow_core/python/framework/ops.py\u001b[0m in \u001b[0;36m_as_graph_element_locked\u001b[0;34m(self, obj, allow_tensor, allow_operation)\u001b[0m\n\u001b[1;32m   3647\u001b[0m           raise KeyError(\"The name %s refers to a Tensor which does not \"\n\u001b[1;32m   3648\u001b[0m                          \u001b[0;34m\"exist. The operation, %s, does not exist in the \"\u001b[0m\u001b[0;34m\u001b[0m\u001b[0;34m\u001b[0m\u001b[0m\n\u001b[0;32m-> 3649\u001b[0;31m                          \"graph.\" % (repr(name), repr(op_name)))\n\u001b[0m\u001b[1;32m   3650\u001b[0m         \u001b[0;32mtry\u001b[0m\u001b[0;34m:\u001b[0m\u001b[0;34m\u001b[0m\u001b[0;34m\u001b[0m\u001b[0m\n\u001b[1;32m   3651\u001b[0m           \u001b[0;32mreturn\u001b[0m \u001b[0mop\u001b[0m\u001b[0;34m.\u001b[0m\u001b[0moutputs\u001b[0m\u001b[0;34m[\u001b[0m\u001b[0mout_n\u001b[0m\u001b[0;34m]\u001b[0m\u001b[0;34m\u001b[0m\u001b[0;34m\u001b[0m\u001b[0m\n",
      "\u001b[0;31mKeyError\u001b[0m: \"The name 'input_layer_1:0' refers to a Tensor which does not exist. The operation, 'input_layer_1', does not exist in the graph.\""
     ]
    }
   ],
   "source": [
    "import tensorflow as tf\n",
    "tf.keras.backend.set_learning_phase(0) \n",
    "from tensorflow.keras.models import load_model\n",
    "import tensorflow.contrib.tensorrt as trt\n",
    "from tensorflow.python.platform import gfile\n",
    "import numpy as np\n",
    "import time\n",
    "\n",
    "TENSORRT_MODEL_PATH = './model/TensorRT_model.pb'\n",
    "\n",
    "graph = tf.Graph()\n",
    "with graph.as_default():\n",
    "    with tf.Session(config=tf.ConfigProto(gpu_options=tf.GPUOptions(per_process_gpu_memory_fraction=0.5))) as sess:\n",
    "        \n",
    "        trt_graph = read_pb_graph(TENSORRT_MODEL_PATH)\n",
    "\n",
    "        # obtain the corresponding input-output tensor\n",
    "        tf.import_graph_def(trt_graph, name='')\n",
    "        input = sess.graph.get_tensor_by_name('input_layer_1:0')\n",
    "        output = sess.graph.get_tensor_by_name('output_layer:0')\n",
    "        \n",
    "        \n",
    "        #testing with trash data\n",
    "        lidar_func = lambda x : x if x <= 15.0 else 15.0\n",
    "        lidar = np.array(np.random.rand(360) * 10)\n",
    "        lidar = np.array([[ lidar_func(i)/15.0 for i in lidar ]])\n",
    "        \n",
    "        \n",
    "        tot_time = 0\n",
    "        for i in range(50):\n",
    "            lidar = np.array(np.random.rand(360) * 10)\n",
    "            lidar = np.array([[ lidar_func(i)/15.0 for i in lidar ]])\n",
    "            start = time.time()\n",
    "            out_pred = sess.run(output, feed_dict={input: lidar})\n",
    "            end = time.time()\n",
    "            tot_time = tot_time + (end-start)\n",
    "            print(\"Prediction: \", out_pred[0],\"time: \", (end-start))\n",
    "        print(\"avg time: \", tot_time/50)"
   ]
  },
  {
   "cell_type": "code",
   "execution_count": null,
   "metadata": {},
   "outputs": [],
   "source": []
  }
 ],
 "metadata": {
  "kernelspec": {
   "display_name": "Python 3",
   "language": "python",
   "name": "python3"
  },
  "language_info": {
   "codemirror_mode": {
    "name": "ipython",
    "version": 3
   },
   "file_extension": ".py",
   "mimetype": "text/x-python",
   "name": "python",
   "nbconvert_exporter": "python",
   "pygments_lexer": "ipython3",
   "version": "3.6.9"
  }
 },
 "nbformat": 4,
 "nbformat_minor": 4
}
